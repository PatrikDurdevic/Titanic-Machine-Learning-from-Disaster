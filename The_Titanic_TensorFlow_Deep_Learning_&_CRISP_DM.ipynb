{
  "nbformat": 4,
  "nbformat_minor": 0,
  "metadata": {
    "kernelspec": {
      "display_name": "Python 3",
      "language": "python",
      "name": "python3"
    },
    "language_info": {
      "codemirror_mode": {
        "name": "ipython",
        "version": 3
      },
      "file_extension": ".py",
      "mimetype": "text/x-python",
      "name": "python",
      "nbconvert_exporter": "python",
      "pygments_lexer": "ipython3",
      "version": "3.6.6"
    },
    "colab": {
      "name": "The Titanic - TensorFlow Deep Learning & CRISP-DM.ipynb",
      "provenance": []
    }
  },
  "cells": [
    {
      "cell_type": "markdown",
      "metadata": {
        "id": "B9U-l6G_p5Xo",
        "colab_type": "text"
      },
      "source": [
        "__If you are reading this on github, please follow [this link to the exact same notebook on Kaggle](https://www.kaggle.com/patrikdurdevic/the-titanic-tensorflow-deep-learning-crisp-dm).__<br>\n",
        "_This is one my first full Data Science analysis. Please feel free to share your feedback. Enjoy the journey!_\n",
        "# 👋🛳️ Ahoy! The Titanic disaster Story\n",
        "_In addition to telling an interesting story, my goal is to follow the [CRISP-DM](https://www.sv-europe.com/crisp-dm-methodology/) methodology as much as possible._"
      ]
    },
    {
      "cell_type": "markdown",
      "metadata": {
        "id": "JTr-jAVKp5Xp",
        "colab_type": "text"
      },
      "source": [
        "### RMS Titanic\n",
        "RMS Titanic was a British passenger liner operated by the White Star Line that sank in the North Atlantic Ocean in the early morning hours of 15 April 1912, after striking an iceberg during her maiden voyage from Southampton to New York City. Of the estimated 2,224 passengers and crew aboard, more than 1,500 died, making the sinking one of modern history's deadliest peacetime commercial marine disasters. RMS Titanic was the largest ship afloat at the time she entered service and was the second of three Olympic-class ocean liners operated by the White Star Line. She was built by the Harland and Wolff shipyard in Belfast. Thomas Andrews, chief naval architect of the shipyard at the time, died in the disaster.\n",
        "\n",
        "Titanic was under the command of Capt. Edward Smith, who also went down with the ship. The ocean liner carried some of the wealthiest people in the world, as well as hundreds of emigrants from Great Britain and Ireland, Scandinavia and elsewhere throughout Europe, who were seeking a new life in the United States. The first-class accommodation was designed to be the pinnacle of comfort and luxury, with a gymnasium, swimming pool, libraries, high-class restaurants and opulent cabins. A high-powered radiotelegraph transmitter was available for sending passenger \"marconigrams\" and for the ship's operational use. Although Titanic had advanced safety features, such as watertight compartments and remotely activated watertight doors, it only carried enough lifeboats for 1,178 people—about half the number on board, and one third of her total capacity—due to the maritime safety regulations of those days. The ship carried 16 lifeboat davits which could lower three lifeboats each, for a total of 48 boats. However, Titanic carried only a total of 20 lifeboats, four of which were collapsible and proved hard to launch during the sinking. (source: [Wikipedia](https://en.wikipedia.org/wiki/RMS_Titanic))"
      ]
    },
    {
      "cell_type": "markdown",
      "metadata": {
        "id": "EwMqp2Gvp5Xr",
        "colab_type": "text"
      },
      "source": [
        "### Challenge\n",
        "On April 15, 1912, during her maiden voyage, the widely considered “unsinkable” RMS Titanic sank after colliding with an iceberg. Unfortunately, there weren’t enough lifeboats for everyone onboard, resulting in the death of 1502 out of 2224 passengers and crew. While there was some element of luck involved in surviving, it seems some groups of people were more likely to survive than others.\n",
        "\n",
        "On the first glance, we can anticipate that more women and children survived compared to men because of the [women and children first](https://en.wikipedia.org/wiki/Women_and_children_first) approach to loading the lifeboats. Our goal throughout this journey is to explore the available data, detect possible anomalies, feature engineer additional helpful information and at the end create a Deep learning predictive model to predict who is most likely to survive based on the provided test dataset."
      ]
    },
    {
      "cell_type": "markdown",
      "metadata": {
        "id": "MG6CoWmkp5Xs",
        "colab_type": "text"
      },
      "source": [
        "# Data understanding\n",
        "We will start by importing the required libraries and loading the provided csv dataset."
      ]
    },
    {
      "cell_type": "code",
      "metadata": {
        "_cell_guid": "b1076dfc-b9ad-4769-8c92-a6c4dae69d19",
        "_uuid": "8f2839f25d086af736a60e9eeb907d3b93b6e0e5",
        "id": "2tvFT0E3p5Xt",
        "colab_type": "code",
        "colab": {},
        "outputId": "acaeacab-ad64-4037-b8db-3b5e3907454c"
      },
      "source": [
        "import numpy as np # linear algebra\n",
        "import pandas as pd # data processing, CSV file I/O (e.g. pd.read_csv)\n",
        "import tensorflow as tf # Deep learning\n",
        "import matplotlib.pyplot as plt # Plots\n",
        "import math # Basic math\n",
        "%matplotlib inline\n",
        "import seaborn as sns # Plots\n",
        "\n",
        "data = pd.read_csv('/kaggle/input/titanic/train.csv')\n",
        "test_data = pd.read_csv('/kaggle/input/titanic/test.csv')\n",
        "data.describe()"
      ],
      "execution_count": 0,
      "outputs": [
        {
          "output_type": "execute_result",
          "data": {
            "text/html": [
              "<div>\n",
              "<style scoped>\n",
              "    .dataframe tbody tr th:only-of-type {\n",
              "        vertical-align: middle;\n",
              "    }\n",
              "\n",
              "    .dataframe tbody tr th {\n",
              "        vertical-align: top;\n",
              "    }\n",
              "\n",
              "    .dataframe thead th {\n",
              "        text-align: right;\n",
              "    }\n",
              "</style>\n",
              "<table border=\"1\" class=\"dataframe\">\n",
              "  <thead>\n",
              "    <tr style=\"text-align: right;\">\n",
              "      <th></th>\n",
              "      <th>PassengerId</th>\n",
              "      <th>Survived</th>\n",
              "      <th>Pclass</th>\n",
              "      <th>Age</th>\n",
              "      <th>SibSp</th>\n",
              "      <th>Parch</th>\n",
              "      <th>Fare</th>\n",
              "    </tr>\n",
              "  </thead>\n",
              "  <tbody>\n",
              "    <tr>\n",
              "      <th>count</th>\n",
              "      <td>891.000000</td>\n",
              "      <td>891.000000</td>\n",
              "      <td>891.000000</td>\n",
              "      <td>714.000000</td>\n",
              "      <td>891.000000</td>\n",
              "      <td>891.000000</td>\n",
              "      <td>891.000000</td>\n",
              "    </tr>\n",
              "    <tr>\n",
              "      <th>mean</th>\n",
              "      <td>446.000000</td>\n",
              "      <td>0.383838</td>\n",
              "      <td>2.308642</td>\n",
              "      <td>29.699118</td>\n",
              "      <td>0.523008</td>\n",
              "      <td>0.381594</td>\n",
              "      <td>32.204208</td>\n",
              "    </tr>\n",
              "    <tr>\n",
              "      <th>std</th>\n",
              "      <td>257.353842</td>\n",
              "      <td>0.486592</td>\n",
              "      <td>0.836071</td>\n",
              "      <td>14.526497</td>\n",
              "      <td>1.102743</td>\n",
              "      <td>0.806057</td>\n",
              "      <td>49.693429</td>\n",
              "    </tr>\n",
              "    <tr>\n",
              "      <th>min</th>\n",
              "      <td>1.000000</td>\n",
              "      <td>0.000000</td>\n",
              "      <td>1.000000</td>\n",
              "      <td>0.420000</td>\n",
              "      <td>0.000000</td>\n",
              "      <td>0.000000</td>\n",
              "      <td>0.000000</td>\n",
              "    </tr>\n",
              "    <tr>\n",
              "      <th>25%</th>\n",
              "      <td>223.500000</td>\n",
              "      <td>0.000000</td>\n",
              "      <td>2.000000</td>\n",
              "      <td>20.125000</td>\n",
              "      <td>0.000000</td>\n",
              "      <td>0.000000</td>\n",
              "      <td>7.910400</td>\n",
              "    </tr>\n",
              "    <tr>\n",
              "      <th>50%</th>\n",
              "      <td>446.000000</td>\n",
              "      <td>0.000000</td>\n",
              "      <td>3.000000</td>\n",
              "      <td>28.000000</td>\n",
              "      <td>0.000000</td>\n",
              "      <td>0.000000</td>\n",
              "      <td>14.454200</td>\n",
              "    </tr>\n",
              "    <tr>\n",
              "      <th>75%</th>\n",
              "      <td>668.500000</td>\n",
              "      <td>1.000000</td>\n",
              "      <td>3.000000</td>\n",
              "      <td>38.000000</td>\n",
              "      <td>1.000000</td>\n",
              "      <td>0.000000</td>\n",
              "      <td>31.000000</td>\n",
              "    </tr>\n",
              "    <tr>\n",
              "      <th>max</th>\n",
              "      <td>891.000000</td>\n",
              "      <td>1.000000</td>\n",
              "      <td>3.000000</td>\n",
              "      <td>80.000000</td>\n",
              "      <td>8.000000</td>\n",
              "      <td>6.000000</td>\n",
              "      <td>512.329200</td>\n",
              "    </tr>\n",
              "  </tbody>\n",
              "</table>\n",
              "</div>"
            ],
            "text/plain": [
              "       PassengerId    Survived      Pclass         Age       SibSp  \\\n",
              "count   891.000000  891.000000  891.000000  714.000000  891.000000   \n",
              "mean    446.000000    0.383838    2.308642   29.699118    0.523008   \n",
              "std     257.353842    0.486592    0.836071   14.526497    1.102743   \n",
              "min       1.000000    0.000000    1.000000    0.420000    0.000000   \n",
              "25%     223.500000    0.000000    2.000000   20.125000    0.000000   \n",
              "50%     446.000000    0.000000    3.000000   28.000000    0.000000   \n",
              "75%     668.500000    1.000000    3.000000   38.000000    1.000000   \n",
              "max     891.000000    1.000000    3.000000   80.000000    8.000000   \n",
              "\n",
              "            Parch        Fare  \n",
              "count  891.000000  891.000000  \n",
              "mean     0.381594   32.204208  \n",
              "std      0.806057   49.693429  \n",
              "min      0.000000    0.000000  \n",
              "25%      0.000000    7.910400  \n",
              "50%      0.000000   14.454200  \n",
              "75%      0.000000   31.000000  \n",
              "max      6.000000  512.329200  "
            ]
          },
          "metadata": {
            "tags": []
          },
          "execution_count": 1
        }
      ]
    },
    {
      "cell_type": "markdown",
      "metadata": {
        "_cell_guid": "79c7e3d0-c299-4dcb-8224-4455121ee9b0",
        "_uuid": "d629ff2d2480ee46fbb7e2d37f6b5fab8052498a",
        "collapsed": true,
        "id": "t4VQkRfhp5X4",
        "colab_type": "text"
      },
      "source": [
        "__In the dataset we are introduced to 12 different properties, let's first explain each one of them so that we can better understand what's going on.__\n",
        "\n",
        "* __PassengerId__: _A unique id for every passenger_\n",
        "* __Survived__: _Whether the passenger survived (1 or 0)_\n",
        "* __Pclass__: _The ticket class (1, 2 or 3 -> 1st, 2nd or 3rd)_\n",
        "* __Name__\n",
        "* __Sex__\n",
        "* __Age__\n",
        "* __SibSp__: _Number of siblings / spouses aboard the Titanic_\n",
        "* __Parch__: _Number of parents / children aboard the Titanic_\n",
        "* __Ticket__: _Ticket number_\n",
        "* __Fare__: _Passenger fare_\n",
        "* __Cabin__: _Cabin number_\n",
        "* __Embarked__: _Port of embarkation (C = Cherbourg, Q = Queenstown, S = Southampton)_\n",
        "\n",
        "Let's first explore each property individually."
      ]
    },
    {
      "cell_type": "markdown",
      "metadata": {
        "id": "aB0zQgeKp5X5",
        "colab_type": "text"
      },
      "source": [
        "## PassengerId\n",
        "Since this is only showing us the unique ID of each passenger, it's pretty much useless and doesn't in any way influence the survival (IDs could be shuffled)."
      ]
    },
    {
      "cell_type": "markdown",
      "metadata": {
        "id": "IBqzYC4pp5X5",
        "colab_type": "text"
      },
      "source": [
        "## Survived\n",
        "There is not much we can do with this data, so let's visualise it and see the ratio of people who survived with others."
      ]
    },
    {
      "cell_type": "code",
      "metadata": {
        "id": "KSt9jlgwp5X6",
        "colab_type": "code",
        "colab": {},
        "outputId": "82057caf-323a-4552-f88b-4e81d0ca9550"
      },
      "source": [
        "sns.countplot(x=\"Survived\", data=data)"
      ],
      "execution_count": 0,
      "outputs": [
        {
          "output_type": "execute_result",
          "data": {
            "text/plain": [
              "<matplotlib.axes._subplots.AxesSubplot at 0x7f2c17d4fe10>"
            ]
          },
          "metadata": {
            "tags": []
          },
          "execution_count": 2
        },
        {
          "output_type": "display_data",
          "data": {
            "image/png": "[encoded data removed]",
            "text/plain": [
              "<Figure size 432x288 with 1 Axes>"
            ]
          },
          "metadata": {
            "tags": [],
            "needs_background": "light"
          }
        }
      ]
    },
    {
      "cell_type": "markdown",
      "metadata": {
        "id": "1qSn1yMMp5X_",
        "colab_type": "text"
      },
      "source": [
        "We can see that there are quite more people who lost their life comparet to the survivals. To be exact, the difference is 207 people."
      ]
    },
    {
      "cell_type": "markdown",
      "metadata": {
        "id": "shHNAOi0p5YA",
        "colab_type": "text"
      },
      "source": [
        "## Ticket class"
      ]
    },
    {
      "cell_type": "markdown",
      "metadata": {
        "id": "-TgB-6Thp5YA",
        "colab_type": "text"
      },
      "source": [
        "This could later prove to be an important piece of data since the higher ticket class could have meant higher priority when it came to boarding the lifeboats."
      ]
    },
    {
      "cell_type": "code",
      "metadata": {
        "id": "5NpdIY69p5YB",
        "colab_type": "code",
        "colab": {},
        "outputId": "25a3e3db-fba6-473c-ef13-fb428a64c066"
      },
      "source": [
        "sns.countplot(x=\"Pclass\", hue=\"Survived\", data=data)"
      ],
      "execution_count": 0,
      "outputs": [
        {
          "output_type": "execute_result",
          "data": {
            "text/plain": [
              "<matplotlib.axes._subplots.AxesSubplot at 0x7f2c15bc81d0>"
            ]
          },
          "metadata": {
            "tags": []
          },
          "execution_count": 3
        },
        {
          "output_type": "display_data",
          "data": {
            "image/png": "[encoded data removed]",
            "text/plain": [
              "<Figure size 432x288 with 1 Axes>"
            ]
          },
          "metadata": {
            "tags": [],
            "needs_background": "light"
          }
        }
      ]
    },
    {
      "cell_type": "markdown",
      "metadata": {
        "id": "NEqNQvw9p5YH",
        "colab_type": "text"
      },
      "source": [
        "## Name\n",
        "At first, this seems as quite unimportant, similar to PassengerId, but let's just see some names of people aboard the ship."
      ]
    },
    {
      "cell_type": "code",
      "metadata": {
        "id": "8Dsxtuh3p5YI",
        "colab_type": "code",
        "colab": {},
        "outputId": "0c8c516d-4bc7-42bd-903c-200d991d0b5c"
      },
      "source": [
        "data.Name"
      ],
      "execution_count": 0,
      "outputs": [
        {
          "output_type": "execute_result",
          "data": {
            "text/plain": [
              "0                                Braund, Mr. Owen Harris\n",
              "1      Cumings, Mrs. John Bradley (Florence Briggs Th...\n",
              "2                                 Heikkinen, Miss. Laina\n",
              "3           Futrelle, Mrs. Jacques Heath (Lily May Peel)\n",
              "4                               Allen, Mr. William Henry\n",
              "                             ...                        \n",
              "886                                Montvila, Rev. Juozas\n",
              "887                         Graham, Miss. Margaret Edith\n",
              "888             Johnston, Miss. Catherine Helen \"Carrie\"\n",
              "889                                Behr, Mr. Karl Howell\n",
              "890                                  Dooley, Mr. Patrick\n",
              "Name: Name, Length: 891, dtype: object"
            ]
          },
          "metadata": {
            "tags": []
          },
          "execution_count": 4
        }
      ]
    },
    {
      "cell_type": "markdown",
      "metadata": {
        "id": "hSJsCFbVp5YM",
        "colab_type": "text"
      },
      "source": [
        "Upon closer inspection, we can see the Rev. title. Let's [investigate](https://en.wikipedia.org/wiki/The_Reverend). Interesting... it is used as a prefix to the names of Christian clergy and ministers. Let's dig deeper."
      ]
    },
    {
      "cell_type": "code",
      "metadata": {
        "id": "iGB39PlJp5YN",
        "colab_type": "code",
        "colab": {},
        "outputId": "68c10dc4-2173-40e0-8fa7-93c2e28f6600"
      },
      "source": [
        "data.Name.values[240:250]"
      ],
      "execution_count": 0,
      "outputs": [
        {
          "output_type": "execute_result",
          "data": {
            "text/plain": [
              "array(['Zabour, Miss. Thamine', 'Murphy, Miss. Katherine \"Kate\"',\n",
              "       'Coleridge, Mr. Reginald Charles', 'Maenpaa, Mr. Matti Alexanteri',\n",
              "       'Attalah, Mr. Sleiman', 'Minahan, Dr. William Edward',\n",
              "       'Lindahl, Miss. Agda Thorilda Viktoria',\n",
              "       'Hamalainen, Mrs. William (Anna)', 'Beckwith, Mr. Richard Leonard',\n",
              "       'Carter, Rev. Ernest Courtenay'], dtype=object)"
            ]
          },
          "metadata": {
            "tags": []
          },
          "execution_count": 5
        }
      ]
    },
    {
      "cell_type": "markdown",
      "metadata": {
        "id": "wQmsnr13p5YQ",
        "colab_type": "text"
      },
      "source": [
        "After looking into the data, we can see that some people were doctors. That is a really important piece of information since they could be more educated about survival methods. This is for sure something we can use in the __feature engineering__ stage so we'll keep this in mind."
      ]
    },
    {
      "cell_type": "markdown",
      "metadata": {
        "id": "3_HeNMsjp5YR",
        "colab_type": "text"
      },
      "source": [
        "## Sex\n",
        "Let's compare the ratio of men and women. It would be interesting to compare the number of men and women who survived versus the ones who lost their life (unfortunately for some, we won't dig too deep into this kind of analysis because we will leave most of the work to the Deep learning model)"
      ]
    },
    {
      "cell_type": "code",
      "metadata": {
        "id": "tqKm5pqZp5YR",
        "colab_type": "code",
        "colab": {},
        "outputId": "cdd1306d-4794-4b2b-b03a-ac4f0a3a72c3"
      },
      "source": [
        "sns.countplot(x=\"Sex\", hue=\"Survived\", data=data)"
      ],
      "execution_count": 0,
      "outputs": [
        {
          "output_type": "execute_result",
          "data": {
            "text/plain": [
              "<matplotlib.axes._subplots.AxesSubplot at 0x7f2c15b507f0>"
            ]
          },
          "metadata": {
            "tags": []
          },
          "execution_count": 6
        },
        {
          "output_type": "display_data",
          "data": {
            "image/png": "[encoded data removed]",
            "text/plain": [
              "<Figure size 432x288 with 1 Axes>"
            ]
          },
          "metadata": {
            "tags": [],
            "needs_background": "light"
          }
        }
      ]
    },
    {
      "cell_type": "markdown",
      "metadata": {
        "id": "VnycXnXRp5YU",
        "colab_type": "text"
      },
      "source": [
        "### First discovery\n",
        "We can immediately see that there is a greater chance for women to survive compared to men, most of whom died in the disaster."
      ]
    },
    {
      "cell_type": "markdown",
      "metadata": {
        "id": "fJ5BNZ7Lp5YV",
        "colab_type": "text"
      },
      "source": [
        "## Age\n",
        "Let's further look into the demographics and see the age distribution."
      ]
    },
    {
      "cell_type": "code",
      "metadata": {
        "id": "7S__46c2p5YV",
        "colab_type": "code",
        "colab": {},
        "outputId": "799dff54-e670-4e13-9467-13e024f5356f"
      },
      "source": [
        "sns.kdeplot(data=data.Age, shade=True)"
      ],
      "execution_count": 0,
      "outputs": [
        {
          "output_type": "execute_result",
          "data": {
            "text/plain": [
              "<matplotlib.axes._subplots.AxesSubplot at 0x7f2c15b351d0>"
            ]
          },
          "metadata": {
            "tags": []
          },
          "execution_count": 7
        },
        {
          "output_type": "display_data",
          "data": {
            "image/png": "[encoded data removed]",
            "text/plain": [
              "<Figure size 432x288 with 1 Axes>"
            ]
          },
          "metadata": {
            "tags": [],
            "needs_background": "light"
          }
        }
      ]
    },
    {
      "cell_type": "markdown",
      "metadata": {
        "id": "QnnS2SaQp5YY",
        "colab_type": "text"
      },
      "source": [
        "Unfortunately, ages of 177 people are not given which is a shame because intuitively this can be a really good indicator of survival ([women and children first](https://en.wikipedia.org/wiki/Women_and_children_first) approach). Let's compare survival rates for each age group."
      ]
    },
    {
      "cell_type": "code",
      "metadata": {
        "id": "G4DvCV_ep5YZ",
        "colab_type": "code",
        "colab": {},
        "outputId": "af7baf72-cca7-409d-d6c5-be6fcbef251e"
      },
      "source": [
        "sns.kdeplot(data=data.loc[data['Survived'] == 1].Age, label=\"Survived\", shade=True)\n",
        "sns.kdeplot(data=data.loc[data['Survived'] == 0].Age, label=\"Died\", shade=True)"
      ],
      "execution_count": 0,
      "outputs": [
        {
          "output_type": "execute_result",
          "data": {
            "text/plain": [
              "<matplotlib.axes._subplots.AxesSubplot at 0x7f2c15aaf160>"
            ]
          },
          "metadata": {
            "tags": []
          },
          "execution_count": 8
        },
        {
          "output_type": "display_data",
          "data": {
            "image/png": "[encoded data removed]",
            "text/plain": [
              "<Figure size 432x288 with 1 Axes>"
            ]
          },
          "metadata": {
            "tags": [],
            "needs_background": "light"
          }
        }
      ]
    },
    {
      "cell_type": "markdown",
      "metadata": {
        "id": "kh4tixwip5Yc",
        "colab_type": "text"
      },
      "source": [
        "Based on the distribution we can clearly see that kids up to the age of approximately 15 had a greater chance of survival. Let's check the correlation between age and survival."
      ]
    },
    {
      "cell_type": "code",
      "metadata": {
        "id": "bF85XC71p5Yd",
        "colab_type": "code",
        "colab": {},
        "outputId": "b4601928-fe9c-4197-be79-f93592e85191"
      },
      "source": [
        "sns.regplot(x=data['Age'], y=data['Survived'])"
      ],
      "execution_count": 0,
      "outputs": [
        {
          "output_type": "execute_result",
          "data": {
            "text/plain": [
              "<matplotlib.axes._subplots.AxesSubplot at 0x7f2c15a68b38>"
            ]
          },
          "metadata": {
            "tags": []
          },
          "execution_count": 9
        },
        {
          "output_type": "display_data",
          "data": {
            "image/png": "[encoded data removed]",
            "text/plain": [
              "<Figure size 432x288 with 1 Axes>"
            ]
          },
          "metadata": {
            "tags": [],
            "needs_background": "light"
          }
        }
      ]
    },
    {
      "cell_type": "markdown",
      "metadata": {
        "id": "Wrm5xFqMp5Yf",
        "colab_type": "text"
      },
      "source": [
        "Based on the scatter plot with the regression line we can with high certainty assume that age was an important factor for surviving the wreck."
      ]
    },
    {
      "cell_type": "markdown",
      "metadata": {
        "id": "h3uSxSBCp5Yf",
        "colab_type": "text"
      },
      "source": [
        "## Age and Sex\n",
        "Out of curiosity, let's see what happens when we try to combine age and sex values."
      ]
    },
    {
      "cell_type": "code",
      "metadata": {
        "id": "ljU-ik0np5Yf",
        "colab_type": "code",
        "colab": {},
        "outputId": "4ed58e97-703f-48ec-a52e-870ec399878f"
      },
      "source": [
        "sns.lmplot(x=\"Age\", y=\"Survived\", hue=\"Sex\", data=data)"
      ],
      "execution_count": 0,
      "outputs": [
        {
          "output_type": "execute_result",
          "data": {
            "text/plain": [
              "<seaborn.axisgrid.FacetGrid at 0x7f2c159a0080>"
            ]
          },
          "metadata": {
            "tags": []
          },
          "execution_count": 10
        },
        {
          "output_type": "display_data",
          "data": {
            "image/png": "[encoded data removed]",
            "text/plain": [
              "<Figure size 430.5x360 with 1 Axes>"
            ]
          },
          "metadata": {
            "tags": [],
            "needs_background": "light"
          }
        }
      ]
    },
    {
      "cell_type": "markdown",
      "metadata": {
        "id": "wyiG_Ytap5Yi",
        "colab_type": "text"
      },
      "source": [
        "### Correlation between age, sex and survival rate\n",
        "Very interesting, we can make two very important observations of this graph:\n",
        "* As women get older, we have an increase in survival rate whereas\n",
        "* As men get older, there is a decrease in survival rate"
      ]
    },
    {
      "cell_type": "markdown",
      "metadata": {
        "id": "OrnC8Getp5Yi",
        "colab_type": "text"
      },
      "source": [
        "## Siblings and spouses & Parents and children\n",
        "Let's see what do we have here."
      ]
    },
    {
      "cell_type": "code",
      "metadata": {
        "id": "mdjntB83p5Yj",
        "colab_type": "code",
        "colab": {},
        "outputId": "a3f08b8b-2c94-4f4a-8bd9-b7d390949791"
      },
      "source": [
        "data.SibSp.describe()"
      ],
      "execution_count": 0,
      "outputs": [
        {
          "output_type": "execute_result",
          "data": {
            "text/plain": [
              "count    891.000000\n",
              "mean       0.523008\n",
              "std        1.102743\n",
              "min        0.000000\n",
              "25%        0.000000\n",
              "50%        0.000000\n",
              "75%        1.000000\n",
              "max        8.000000\n",
              "Name: SibSp, dtype: float64"
            ]
          },
          "metadata": {
            "tags": []
          },
          "execution_count": 11
        }
      ]
    },
    {
      "cell_type": "code",
      "metadata": {
        "id": "q-0O2X18p5Yk",
        "colab_type": "code",
        "colab": {},
        "outputId": "30471f78-7188-42e8-bd21-5339cb137921"
      },
      "source": [
        "data.Parch.describe()"
      ],
      "execution_count": 0,
      "outputs": [
        {
          "output_type": "execute_result",
          "data": {
            "text/plain": [
              "count    891.000000\n",
              "mean       0.381594\n",
              "std        0.806057\n",
              "min        0.000000\n",
              "25%        0.000000\n",
              "50%        0.000000\n",
              "75%        0.000000\n",
              "max        6.000000\n",
              "Name: Parch, dtype: float64"
            ]
          },
          "metadata": {
            "tags": []
          },
          "execution_count": 12
        }
      ]
    },
    {
      "cell_type": "markdown",
      "metadata": {
        "id": "PiNx7Wkcp5Yn",
        "colab_type": "text"
      },
      "source": [
        "We can see that most people had little to no siblings or spouses aboard the Titanic. The same can be said for parents and children."
      ]
    },
    {
      "cell_type": "markdown",
      "metadata": {
        "id": "x-uy0Zvbp5Yn",
        "colab_type": "text"
      },
      "source": [
        "## Passenger fare\n",
        "On the first glance, this is probably connected to the ticket class and should yield similar observations."
      ]
    },
    {
      "cell_type": "code",
      "metadata": {
        "id": "U9nd6Z5tp5Yn",
        "colab_type": "code",
        "colab": {},
        "outputId": "5bc589b6-7b24-4b4b-e59e-8f52bd995d9c"
      },
      "source": [
        "sns.lmplot(x=\"Fare\", y=\"Survived\", data=data)"
      ],
      "execution_count": 0,
      "outputs": [
        {
          "output_type": "execute_result",
          "data": {
            "text/plain": [
              "<seaborn.axisgrid.FacetGrid at 0x7f2c1592e080>"
            ]
          },
          "metadata": {
            "tags": []
          },
          "execution_count": 13
        },
        {
          "output_type": "display_data",
          "data": {
            "image/png": "[encoded data removed]",
            "text/plain": [
              "<Figure size 360x360 with 1 Axes>"
            ]
          },
          "metadata": {
            "tags": [],
            "needs_background": "light"
          }
        }
      ]
    },
    {
      "cell_type": "markdown",
      "metadata": {
        "id": "gmpG-sNnp5Yq",
        "colab_type": "text"
      },
      "source": [
        "## Cabin number\n",
        "This can be interesting. Let's see what's provided to us."
      ]
    },
    {
      "cell_type": "code",
      "metadata": {
        "id": "ZzXjgcfdp5Yr",
        "colab_type": "code",
        "colab": {},
        "outputId": "b623d14f-9692-4503-bebe-b6698c9d824f"
      },
      "source": [
        "data.Cabin.describe()"
      ],
      "execution_count": 0,
      "outputs": [
        {
          "output_type": "execute_result",
          "data": {
            "text/plain": [
              "count             204\n",
              "unique            147\n",
              "top       C23 C25 C27\n",
              "freq                4\n",
              "Name: Cabin, dtype: object"
            ]
          },
          "metadata": {
            "tags": []
          },
          "execution_count": 14
        }
      ]
    },
    {
      "cell_type": "markdown",
      "metadata": {
        "id": "_cW37LeHp5Yt",
        "colab_type": "text"
      },
      "source": [
        "Unfortunately we have the data for only about 23% of the passengers."
      ]
    },
    {
      "cell_type": "code",
      "metadata": {
        "id": "Jk5NcpuSp5Yu",
        "colab_type": "code",
        "colab": {},
        "outputId": "7cef18ca-c15e-499c-c911-80945452c046"
      },
      "source": [
        "data.Cabin.unique()"
      ],
      "execution_count": 0,
      "outputs": [
        {
          "output_type": "execute_result",
          "data": {
            "text/plain": [
              "array([nan, 'C85', 'C123', 'E46', 'G6', 'C103', 'D56', 'A6',\n",
              "       'C23 C25 C27', 'B78', 'D33', 'B30', 'C52', 'B28', 'C83', 'F33',\n",
              "       'F G73', 'E31', 'A5', 'D10 D12', 'D26', 'C110', 'B58 B60', 'E101',\n",
              "       'F E69', 'D47', 'B86', 'F2', 'C2', 'E33', 'B19', 'A7', 'C49', 'F4',\n",
              "       'A32', 'B4', 'B80', 'A31', 'D36', 'D15', 'C93', 'C78', 'D35',\n",
              "       'C87', 'B77', 'E67', 'B94', 'C125', 'C99', 'C118', 'D7', 'A19',\n",
              "       'B49', 'D', 'C22 C26', 'C106', 'C65', 'E36', 'C54',\n",
              "       'B57 B59 B63 B66', 'C7', 'E34', 'C32', 'B18', 'C124', 'C91', 'E40',\n",
              "       'T', 'C128', 'D37', 'B35', 'E50', 'C82', 'B96 B98', 'E10', 'E44',\n",
              "       'A34', 'C104', 'C111', 'C92', 'E38', 'D21', 'E12', 'E63', 'A14',\n",
              "       'B37', 'C30', 'D20', 'B79', 'E25', 'D46', 'B73', 'C95', 'B38',\n",
              "       'B39', 'B22', 'C86', 'C70', 'A16', 'C101', 'C68', 'A10', 'E68',\n",
              "       'B41', 'A20', 'D19', 'D50', 'D9', 'A23', 'B50', 'A26', 'D48',\n",
              "       'E58', 'C126', 'B71', 'B51 B53 B55', 'D49', 'B5', 'B20', 'F G63',\n",
              "       'C62 C64', 'E24', 'C90', 'C45', 'E8', 'B101', 'D45', 'C46', 'D30',\n",
              "       'E121', 'D11', 'E77', 'F38', 'B3', 'D6', 'B82 B84', 'D17', 'A36',\n",
              "       'B102', 'B69', 'E49', 'C47', 'D28', 'E17', 'A24', 'C50', 'B42',\n",
              "       'C148'], dtype=object)"
            ]
          },
          "metadata": {
            "tags": []
          },
          "execution_count": 15
        }
      ]
    },
    {
      "cell_type": "markdown",
      "metadata": {
        "id": "YD3qjxH0p5Yv",
        "colab_type": "text"
      },
      "source": [
        "After a little bit of [research](https://www.encyclopedia-titanica.org/titanic-deckplans/) we can see that the letters correspond to different decks. This will probably correlate to the survival. We'll keep an eye out on this during the data preparation stage."
      ]
    },
    {
      "cell_type": "markdown",
      "metadata": {
        "id": "YT_6pxoqp5Yw",
        "colab_type": "text"
      },
      "source": [
        "## Port\n",
        "This is not a good indicator and would probably cause data leakage if we were to include it in the model training."
      ]
    },
    {
      "cell_type": "markdown",
      "metadata": {
        "id": "Mm4Y3k8vp5Yw",
        "colab_type": "text"
      },
      "source": [
        "# Data preparation"
      ]
    },
    {
      "cell_type": "markdown",
      "metadata": {
        "id": "k0hqwz2Lp5Yw",
        "colab_type": "text"
      },
      "source": [
        "## Selecting the important data\n",
        "During the data understanding stage, we realised that some columns are in practice useless and now we are going to remove them from the dataset."
      ]
    },
    {
      "cell_type": "code",
      "metadata": {
        "id": "csClM1uWp5Yx",
        "colab_type": "code",
        "colab": {},
        "outputId": "d2b4179c-65dc-48b6-fe41-12160376e35a"
      },
      "source": [
        "columnFilter = [\"Survived\", \"Pclass\", \"Sex\", \"Age\", \"SibSp\", \"Parch\"]\n",
        "filteredData = data[columnFilter]\n",
        "filteredTestData = test_data[columnFilter[1:]]\n",
        "filteredData.head()"
      ],
      "execution_count": 0,
      "outputs": [
        {
          "output_type": "execute_result",
          "data": {
            "text/html": [
              "<div>\n",
              "<style scoped>\n",
              "    .dataframe tbody tr th:only-of-type {\n",
              "        vertical-align: middle;\n",
              "    }\n",
              "\n",
              "    .dataframe tbody tr th {\n",
              "        vertical-align: top;\n",
              "    }\n",
              "\n",
              "    .dataframe thead th {\n",
              "        text-align: right;\n",
              "    }\n",
              "</style>\n",
              "<table border=\"1\" class=\"dataframe\">\n",
              "  <thead>\n",
              "    <tr style=\"text-align: right;\">\n",
              "      <th></th>\n",
              "      <th>Survived</th>\n",
              "      <th>Pclass</th>\n",
              "      <th>Sex</th>\n",
              "      <th>Age</th>\n",
              "      <th>SibSp</th>\n",
              "      <th>Parch</th>\n",
              "    </tr>\n",
              "  </thead>\n",
              "  <tbody>\n",
              "    <tr>\n",
              "      <th>0</th>\n",
              "      <td>0</td>\n",
              "      <td>3</td>\n",
              "      <td>male</td>\n",
              "      <td>22.0</td>\n",
              "      <td>1</td>\n",
              "      <td>0</td>\n",
              "    </tr>\n",
              "    <tr>\n",
              "      <th>1</th>\n",
              "      <td>1</td>\n",
              "      <td>1</td>\n",
              "      <td>female</td>\n",
              "      <td>38.0</td>\n",
              "      <td>1</td>\n",
              "      <td>0</td>\n",
              "    </tr>\n",
              "    <tr>\n",
              "      <th>2</th>\n",
              "      <td>1</td>\n",
              "      <td>3</td>\n",
              "      <td>female</td>\n",
              "      <td>26.0</td>\n",
              "      <td>0</td>\n",
              "      <td>0</td>\n",
              "    </tr>\n",
              "    <tr>\n",
              "      <th>3</th>\n",
              "      <td>1</td>\n",
              "      <td>1</td>\n",
              "      <td>female</td>\n",
              "      <td>35.0</td>\n",
              "      <td>1</td>\n",
              "      <td>0</td>\n",
              "    </tr>\n",
              "    <tr>\n",
              "      <th>4</th>\n",
              "      <td>0</td>\n",
              "      <td>3</td>\n",
              "      <td>male</td>\n",
              "      <td>35.0</td>\n",
              "      <td>0</td>\n",
              "      <td>0</td>\n",
              "    </tr>\n",
              "  </tbody>\n",
              "</table>\n",
              "</div>"
            ],
            "text/plain": [
              "   Survived  Pclass     Sex   Age  SibSp  Parch\n",
              "0         0       3    male  22.0      1      0\n",
              "1         1       1  female  38.0      1      0\n",
              "2         1       3  female  26.0      0      0\n",
              "3         1       1  female  35.0      1      0\n",
              "4         0       3    male  35.0      0      0"
            ]
          },
          "metadata": {
            "tags": []
          },
          "execution_count": 16
        }
      ]
    },
    {
      "cell_type": "markdown",
      "metadata": {
        "id": "kURDt4vhp5Yz",
        "colab_type": "text"
      },
      "source": [
        "## Data cleaning\n",
        "In this stage we are going to do some data cleanup. At the end, we are going to have data ready for our deep learning model."
      ]
    },
    {
      "cell_type": "code",
      "metadata": {
        "id": "LpbDe0RBp5Yz",
        "colab_type": "code",
        "colab": {},
        "outputId": "4f6bce8f-c367-4608-b183-0705b378709c"
      },
      "source": [
        "filteredData.head()"
      ],
      "execution_count": 0,
      "outputs": [
        {
          "output_type": "execute_result",
          "data": {
            "text/html": [
              "<div>\n",
              "<style scoped>\n",
              "    .dataframe tbody tr th:only-of-type {\n",
              "        vertical-align: middle;\n",
              "    }\n",
              "\n",
              "    .dataframe tbody tr th {\n",
              "        vertical-align: top;\n",
              "    }\n",
              "\n",
              "    .dataframe thead th {\n",
              "        text-align: right;\n",
              "    }\n",
              "</style>\n",
              "<table border=\"1\" class=\"dataframe\">\n",
              "  <thead>\n",
              "    <tr style=\"text-align: right;\">\n",
              "      <th></th>\n",
              "      <th>Survived</th>\n",
              "      <th>Pclass</th>\n",
              "      <th>Sex</th>\n",
              "      <th>Age</th>\n",
              "      <th>SibSp</th>\n",
              "      <th>Parch</th>\n",
              "    </tr>\n",
              "  </thead>\n",
              "  <tbody>\n",
              "    <tr>\n",
              "      <th>0</th>\n",
              "      <td>0</td>\n",
              "      <td>3</td>\n",
              "      <td>male</td>\n",
              "      <td>22.0</td>\n",
              "      <td>1</td>\n",
              "      <td>0</td>\n",
              "    </tr>\n",
              "    <tr>\n",
              "      <th>1</th>\n",
              "      <td>1</td>\n",
              "      <td>1</td>\n",
              "      <td>female</td>\n",
              "      <td>38.0</td>\n",
              "      <td>1</td>\n",
              "      <td>0</td>\n",
              "    </tr>\n",
              "    <tr>\n",
              "      <th>2</th>\n",
              "      <td>1</td>\n",
              "      <td>3</td>\n",
              "      <td>female</td>\n",
              "      <td>26.0</td>\n",
              "      <td>0</td>\n",
              "      <td>0</td>\n",
              "    </tr>\n",
              "    <tr>\n",
              "      <th>3</th>\n",
              "      <td>1</td>\n",
              "      <td>1</td>\n",
              "      <td>female</td>\n",
              "      <td>35.0</td>\n",
              "      <td>1</td>\n",
              "      <td>0</td>\n",
              "    </tr>\n",
              "    <tr>\n",
              "      <th>4</th>\n",
              "      <td>0</td>\n",
              "      <td>3</td>\n",
              "      <td>male</td>\n",
              "      <td>35.0</td>\n",
              "      <td>0</td>\n",
              "      <td>0</td>\n",
              "    </tr>\n",
              "  </tbody>\n",
              "</table>\n",
              "</div>"
            ],
            "text/plain": [
              "   Survived  Pclass     Sex   Age  SibSp  Parch\n",
              "0         0       3    male  22.0      1      0\n",
              "1         1       1  female  38.0      1      0\n",
              "2         1       3  female  26.0      0      0\n",
              "3         1       1  female  35.0      1      0\n",
              "4         0       3    male  35.0      0      0"
            ]
          },
          "metadata": {
            "tags": []
          },
          "execution_count": 17
        }
      ]
    },
    {
      "cell_type": "markdown",
      "metadata": {
        "id": "kyFvYD8Yp5Y1",
        "colab_type": "text"
      },
      "source": [
        "Let's at first [one hot encode](https://www.geeksforgeeks.org/ml-one-hot-encoding-of-datasets-in-python/) the Pclass attribute."
      ]
    },
    {
      "cell_type": "code",
      "metadata": {
        "id": "cI6gRSi7p5Y2",
        "colab_type": "code",
        "colab": {},
        "outputId": "0c6f00b7-d811-4576-eba3-b88d2dbe687a"
      },
      "source": [
        "def oneHotEncode(dataToEncode, column):\n",
        "    onehot = pd.get_dummies(dataToEncode[column])\n",
        "    dataToEncode = dataToEncode.join(onehot)\n",
        "    dataToEncode = dataToEncode.drop(columns=column)\n",
        "    return dataToEncode\n",
        "\n",
        "filteredData = oneHotEncode(filteredData, \"Pclass\")\n",
        "filteredData.head()"
      ],
      "execution_count": 0,
      "outputs": [
        {
          "output_type": "execute_result",
          "data": {
            "text/html": [
              "<div>\n",
              "<style scoped>\n",
              "    .dataframe tbody tr th:only-of-type {\n",
              "        vertical-align: middle;\n",
              "    }\n",
              "\n",
              "    .dataframe tbody tr th {\n",
              "        vertical-align: top;\n",
              "    }\n",
              "\n",
              "    .dataframe thead th {\n",
              "        text-align: right;\n",
              "    }\n",
              "</style>\n",
              "<table border=\"1\" class=\"dataframe\">\n",
              "  <thead>\n",
              "    <tr style=\"text-align: right;\">\n",
              "      <th></th>\n",
              "      <th>Survived</th>\n",
              "      <th>Sex</th>\n",
              "      <th>Age</th>\n",
              "      <th>SibSp</th>\n",
              "      <th>Parch</th>\n",
              "      <th>1</th>\n",
              "      <th>2</th>\n",
              "      <th>3</th>\n",
              "    </tr>\n",
              "  </thead>\n",
              "  <tbody>\n",
              "    <tr>\n",
              "      <th>0</th>\n",
              "      <td>0</td>\n",
              "      <td>male</td>\n",
              "      <td>22.0</td>\n",
              "      <td>1</td>\n",
              "      <td>0</td>\n",
              "      <td>0</td>\n",
              "      <td>0</td>\n",
              "      <td>1</td>\n",
              "    </tr>\n",
              "    <tr>\n",
              "      <th>1</th>\n",
              "      <td>1</td>\n",
              "      <td>female</td>\n",
              "      <td>38.0</td>\n",
              "      <td>1</td>\n",
              "      <td>0</td>\n",
              "      <td>1</td>\n",
              "      <td>0</td>\n",
              "      <td>0</td>\n",
              "    </tr>\n",
              "    <tr>\n",
              "      <th>2</th>\n",
              "      <td>1</td>\n",
              "      <td>female</td>\n",
              "      <td>26.0</td>\n",
              "      <td>0</td>\n",
              "      <td>0</td>\n",
              "      <td>0</td>\n",
              "      <td>0</td>\n",
              "      <td>1</td>\n",
              "    </tr>\n",
              "    <tr>\n",
              "      <th>3</th>\n",
              "      <td>1</td>\n",
              "      <td>female</td>\n",
              "      <td>35.0</td>\n",
              "      <td>1</td>\n",
              "      <td>0</td>\n",
              "      <td>1</td>\n",
              "      <td>0</td>\n",
              "      <td>0</td>\n",
              "    </tr>\n",
              "    <tr>\n",
              "      <th>4</th>\n",
              "      <td>0</td>\n",
              "      <td>male</td>\n",
              "      <td>35.0</td>\n",
              "      <td>0</td>\n",
              "      <td>0</td>\n",
              "      <td>0</td>\n",
              "      <td>0</td>\n",
              "      <td>1</td>\n",
              "    </tr>\n",
              "  </tbody>\n",
              "</table>\n",
              "</div>"
            ],
            "text/plain": [
              "   Survived     Sex   Age  SibSp  Parch  1  2  3\n",
              "0         0    male  22.0      1      0  0  0  1\n",
              "1         1  female  38.0      1      0  1  0  0\n",
              "2         1  female  26.0      0      0  0  0  1\n",
              "3         1  female  35.0      1      0  1  0  0\n",
              "4         0    male  35.0      0      0  0  0  1"
            ]
          },
          "metadata": {
            "tags": []
          },
          "execution_count": 18
        }
      ]
    },
    {
      "cell_type": "markdown",
      "metadata": {
        "id": "DJxZLV1Qp5Y4",
        "colab_type": "text"
      },
      "source": [
        "Next we are going to convert the sex attribute to number since our model requires values to be integers."
      ]
    },
    {
      "cell_type": "code",
      "metadata": {
        "id": "KF17b7vCp5Y4",
        "colab_type": "code",
        "colab": {},
        "outputId": "014215e3-2f61-4479-fc5e-4f8649bf9f9b"
      },
      "source": [
        "def sex_to_numerical(d):\n",
        "    sex = d[\"Sex\"]\n",
        "    if sex == \"male\":\n",
        "        return 1\n",
        "    return 0\n",
        "\n",
        "filteredData['Sex'] = filteredData.apply(sex_to_numerical, axis=1)\n",
        "filteredData.head()"
      ],
      "execution_count": 0,
      "outputs": [
        {
          "output_type": "execute_result",
          "data": {
            "text/html": [
              "<div>\n",
              "<style scoped>\n",
              "    .dataframe tbody tr th:only-of-type {\n",
              "        vertical-align: middle;\n",
              "    }\n",
              "\n",
              "    .dataframe tbody tr th {\n",
              "        vertical-align: top;\n",
              "    }\n",
              "\n",
              "    .dataframe thead th {\n",
              "        text-align: right;\n",
              "    }\n",
              "</style>\n",
              "<table border=\"1\" class=\"dataframe\">\n",
              "  <thead>\n",
              "    <tr style=\"text-align: right;\">\n",
              "      <th></th>\n",
              "      <th>Survived</th>\n",
              "      <th>Sex</th>\n",
              "      <th>Age</th>\n",
              "      <th>SibSp</th>\n",
              "      <th>Parch</th>\n",
              "      <th>1</th>\n",
              "      <th>2</th>\n",
              "      <th>3</th>\n",
              "    </tr>\n",
              "  </thead>\n",
              "  <tbody>\n",
              "    <tr>\n",
              "      <th>0</th>\n",
              "      <td>0</td>\n",
              "      <td>1</td>\n",
              "      <td>22.0</td>\n",
              "      <td>1</td>\n",
              "      <td>0</td>\n",
              "      <td>0</td>\n",
              "      <td>0</td>\n",
              "      <td>1</td>\n",
              "    </tr>\n",
              "    <tr>\n",
              "      <th>1</th>\n",
              "      <td>1</td>\n",
              "      <td>0</td>\n",
              "      <td>38.0</td>\n",
              "      <td>1</td>\n",
              "      <td>0</td>\n",
              "      <td>1</td>\n",
              "      <td>0</td>\n",
              "      <td>0</td>\n",
              "    </tr>\n",
              "    <tr>\n",
              "      <th>2</th>\n",
              "      <td>1</td>\n",
              "      <td>0</td>\n",
              "      <td>26.0</td>\n",
              "      <td>0</td>\n",
              "      <td>0</td>\n",
              "      <td>0</td>\n",
              "      <td>0</td>\n",
              "      <td>1</td>\n",
              "    </tr>\n",
              "    <tr>\n",
              "      <th>3</th>\n",
              "      <td>1</td>\n",
              "      <td>0</td>\n",
              "      <td>35.0</td>\n",
              "      <td>1</td>\n",
              "      <td>0</td>\n",
              "      <td>1</td>\n",
              "      <td>0</td>\n",
              "      <td>0</td>\n",
              "    </tr>\n",
              "    <tr>\n",
              "      <th>4</th>\n",
              "      <td>0</td>\n",
              "      <td>1</td>\n",
              "      <td>35.0</td>\n",
              "      <td>0</td>\n",
              "      <td>0</td>\n",
              "      <td>0</td>\n",
              "      <td>0</td>\n",
              "      <td>1</td>\n",
              "    </tr>\n",
              "  </tbody>\n",
              "</table>\n",
              "</div>"
            ],
            "text/plain": [
              "   Survived  Sex   Age  SibSp  Parch  1  2  3\n",
              "0         0    1  22.0      1      0  0  0  1\n",
              "1         1    0  38.0      1      0  1  0  0\n",
              "2         1    0  26.0      0      0  0  0  1\n",
              "3         1    0  35.0      1      0  1  0  0\n",
              "4         0    1  35.0      0      0  0  0  1"
            ]
          },
          "metadata": {
            "tags": []
          },
          "execution_count": 19
        }
      ]
    },
    {
      "cell_type": "markdown",
      "metadata": {
        "id": "72fcTt8Tp5Y6",
        "colab_type": "text"
      },
      "source": [
        "At last, we are going to fill the missing age attributes with the mean values and normalize the data because [normalized data performs better on the deep learning models](https://mc.ai/why-data-normalization-is-necessary-for-machine-learning-models/)."
      ]
    },
    {
      "cell_type": "code",
      "metadata": {
        "id": "efVpIwfhp5Y6",
        "colab_type": "code",
        "colab": {},
        "outputId": "5e9eea71-df27-4efb-d3b5-92d6c466a228"
      },
      "source": [
        "from sklearn.preprocessing import MinMaxScaler\n",
        "\n",
        "def normalize_age(dataToNormalize):\n",
        "    scaler = MinMaxScaler()\n",
        "    dataToNormalize[\"Age\"] = scaler.fit_transform(dataToNormalize[\"Age\"].values.reshape(-1,1))\n",
        "    return dataToNormalize\n",
        "\n",
        "filteredData.Age.fillna((filteredData['Age'].mean()), inplace=True)\n",
        "\n",
        "filteredData = normalize_age(filteredData)\n",
        "filteredData.head()"
      ],
      "execution_count": 0,
      "outputs": [
        {
          "output_type": "execute_result",
          "data": {
            "text/html": [
              "<div>\n",
              "<style scoped>\n",
              "    .dataframe tbody tr th:only-of-type {\n",
              "        vertical-align: middle;\n",
              "    }\n",
              "\n",
              "    .dataframe tbody tr th {\n",
              "        vertical-align: top;\n",
              "    }\n",
              "\n",
              "    .dataframe thead th {\n",
              "        text-align: right;\n",
              "    }\n",
              "</style>\n",
              "<table border=\"1\" class=\"dataframe\">\n",
              "  <thead>\n",
              "    <tr style=\"text-align: right;\">\n",
              "      <th></th>\n",
              "      <th>Survived</th>\n",
              "      <th>Sex</th>\n",
              "      <th>Age</th>\n",
              "      <th>SibSp</th>\n",
              "      <th>Parch</th>\n",
              "      <th>1</th>\n",
              "      <th>2</th>\n",
              "      <th>3</th>\n",
              "    </tr>\n",
              "  </thead>\n",
              "  <tbody>\n",
              "    <tr>\n",
              "      <th>0</th>\n",
              "      <td>0</td>\n",
              "      <td>1</td>\n",
              "      <td>0.271174</td>\n",
              "      <td>1</td>\n",
              "      <td>0</td>\n",
              "      <td>0</td>\n",
              "      <td>0</td>\n",
              "      <td>1</td>\n",
              "    </tr>\n",
              "    <tr>\n",
              "      <th>1</th>\n",
              "      <td>1</td>\n",
              "      <td>0</td>\n",
              "      <td>0.472229</td>\n",
              "      <td>1</td>\n",
              "      <td>0</td>\n",
              "      <td>1</td>\n",
              "      <td>0</td>\n",
              "      <td>0</td>\n",
              "    </tr>\n",
              "    <tr>\n",
              "      <th>2</th>\n",
              "      <td>1</td>\n",
              "      <td>0</td>\n",
              "      <td>0.321438</td>\n",
              "      <td>0</td>\n",
              "      <td>0</td>\n",
              "      <td>0</td>\n",
              "      <td>0</td>\n",
              "      <td>1</td>\n",
              "    </tr>\n",
              "    <tr>\n",
              "      <th>3</th>\n",
              "      <td>1</td>\n",
              "      <td>0</td>\n",
              "      <td>0.434531</td>\n",
              "      <td>1</td>\n",
              "      <td>0</td>\n",
              "      <td>1</td>\n",
              "      <td>0</td>\n",
              "      <td>0</td>\n",
              "    </tr>\n",
              "    <tr>\n",
              "      <th>4</th>\n",
              "      <td>0</td>\n",
              "      <td>1</td>\n",
              "      <td>0.434531</td>\n",
              "      <td>0</td>\n",
              "      <td>0</td>\n",
              "      <td>0</td>\n",
              "      <td>0</td>\n",
              "      <td>1</td>\n",
              "    </tr>\n",
              "  </tbody>\n",
              "</table>\n",
              "</div>"
            ],
            "text/plain": [
              "   Survived  Sex       Age  SibSp  Parch  1  2  3\n",
              "0         0    1  0.271174      1      0  0  0  1\n",
              "1         1    0  0.472229      1      0  1  0  0\n",
              "2         1    0  0.321438      0      0  0  0  1\n",
              "3         1    0  0.434531      1      0  1  0  0\n",
              "4         0    1  0.434531      0      0  0  0  1"
            ]
          },
          "metadata": {
            "tags": []
          },
          "execution_count": 20
        }
      ]
    },
    {
      "cell_type": "markdown",
      "metadata": {
        "id": "-vjeoDBKp5Y8",
        "colab_type": "text"
      },
      "source": [
        "## Feature engineering\n",
        "Unfortunately, I can hardly see feature engineering making an impact on our predictions. For that reason, I'm not going to get into it this time. Here are some of the reasons:\n",
        "* It would be cool to extract the deck on which people were located, but we are provided with that sort of data for only a small fraction of the people\n",
        "* I don't see extracting the Dr. title from the names being beneficial to our model for the same reason (very small amount of people have a specific title which would intuitively make an impact on the chances of survival)"
      ]
    },
    {
      "cell_type": "markdown",
      "metadata": {
        "id": "j4LUiZfUp5Y9",
        "colab_type": "text"
      },
      "source": [
        "## Training and validation data\n"
      ]
    },
    {
      "cell_type": "code",
      "metadata": {
        "id": "_mwYQeCSp5Y9",
        "colab_type": "code",
        "colab": {}
      },
      "source": [
        "from sklearn.model_selection import train_test_split\n",
        "X = filteredData[filteredData.columns[1:]]\n",
        "y = filteredData[filteredData.columns[0]]\n",
        "\n",
        "X_train, X_test, y_train, y_test = train_test_split(X, y, test_size=0.2)\n",
        "\n",
        "X_train = X_train.to_numpy()\n",
        "X_test = X_test.to_numpy()\n",
        "y_train = y_train.to_numpy()\n",
        "y_test = y_test.to_numpy()"
      ],
      "execution_count": 0,
      "outputs": []
    },
    {
      "cell_type": "markdown",
      "metadata": {
        "id": "jqGLNFOWp5Y_",
        "colab_type": "text"
      },
      "source": [
        "# Modelling\n",
        "\n",
        "## Let's create a deep learning model"
      ]
    },
    {
      "cell_type": "markdown",
      "metadata": {
        "id": "ex_oCzEZp5Y_",
        "colab_type": "text"
      },
      "source": [
        "Since my goal for this task is to create a __deep learning__ model, i wanted to create a model which has more than only 1 layer. After some tweaking, I settled for 6, combining the dense layers with dropout layers and the sigmoid activation function at the end. I am using dropout layers to [prevent the model from overfitting](https://www.tensorflow.org/tutorials/keras/overfit_and_underfit). Finally I decided to go for [Adam optimizer (adaptive gradient descent)](https://www.tensorflow.org/api_docs/python/tf/keras/optimizers/Adam) with the [BinaryCrossentropy loss](https://www.tensorflow.org/api_docs/python/tf/keras/losses/BinaryCrossentropy) function (complementing the final sigmoid activation function)."
      ]
    },
    {
      "cell_type": "code",
      "metadata": {
        "id": "JM77w6I8p5ZA",
        "colab_type": "code",
        "colab": {},
        "outputId": "9e3acd85-e7f3-447a-8dcd-150249843e8f"
      },
      "source": [
        "model = tf.keras.Sequential([\n",
        "    tf.keras.layers.Dense(64, activation='relu'),\n",
        "    tf.keras.layers.Dropout(0.2),\n",
        "    tf.keras.layers.Dense(32, activation='relu'),\n",
        "    tf.keras.layers.Dropout(0.2),\n",
        "    tf.keras.layers.Dense(16, activation='relu'),\n",
        "    tf.keras.layers.Dense(1, activation='sigmoid')\n",
        "])\n",
        "model.compile(optimizer='adam', loss=tf.keras.losses.BinaryCrossentropy(from_logits=True), metrics=['accuracy'])\n",
        "history = model.fit(X_train, y_train, epochs=100, validation_data=(X_test, y_test))"
      ],
      "execution_count": 0,
      "outputs": [
        {
          "output_type": "stream",
          "text": [
            "Train on 712 samples, validate on 179 samples\n",
            "Epoch 1/100\n",
            "712/712 [==============================] - 1s 1ms/sample - loss: 0.7469 - accuracy: 0.6138 - val_loss: 0.7379 - val_accuracy: 0.6257\n",
            "Epoch 2/100\n",
            "712/712 [==============================] - 0s 87us/sample - loss: 0.7119 - accuracy: 0.6138 - val_loss: 0.6968 - val_accuracy: 0.6257\n",
            "Epoch 3/100\n",
            "712/712 [==============================] - 0s 84us/sample - loss: 0.6895 - accuracy: 0.6138 - val_loss: 0.6778 - val_accuracy: 0.6257\n",
            "Epoch 4/100\n",
            "712/712 [==============================] - 0s 84us/sample - loss: 0.6792 - accuracy: 0.6138 - val_loss: 0.6628 - val_accuracy: 0.6257\n",
            "Epoch 5/100\n",
            "712/712 [==============================] - 0s 84us/sample - loss: 0.6712 - accuracy: 0.6138 - val_loss: 0.6565 - val_accuracy: 0.6257\n",
            "Epoch 6/100\n",
            "712/712 [==============================] - 0s 84us/sample - loss: 0.6644 - accuracy: 0.6180 - val_loss: 0.6531 - val_accuracy: 0.6648\n",
            "Epoch 7/100\n",
            "712/712 [==============================] - 0s 86us/sample - loss: 0.6609 - accuracy: 0.6896 - val_loss: 0.6498 - val_accuracy: 0.8156\n",
            "Epoch 8/100\n",
            "712/712 [==============================] - 0s 86us/sample - loss: 0.6579 - accuracy: 0.7514 - val_loss: 0.6456 - val_accuracy: 0.8156\n",
            "Epoch 9/100\n",
            "712/712 [==============================] - 0s 84us/sample - loss: 0.6527 - accuracy: 0.7654 - val_loss: 0.6390 - val_accuracy: 0.8156\n",
            "Epoch 10/100\n",
            "712/712 [==============================] - 0s 85us/sample - loss: 0.6461 - accuracy: 0.7739 - val_loss: 0.6313 - val_accuracy: 0.8156\n",
            "Epoch 11/100\n",
            "712/712 [==============================] - 0s 84us/sample - loss: 0.6418 - accuracy: 0.7781 - val_loss: 0.6272 - val_accuracy: 0.8156\n",
            "Epoch 12/100\n",
            "712/712 [==============================] - 0s 85us/sample - loss: 0.6362 - accuracy: 0.7809 - val_loss: 0.6241 - val_accuracy: 0.8156\n",
            "Epoch 13/100\n",
            "712/712 [==============================] - 0s 84us/sample - loss: 0.6361 - accuracy: 0.7795 - val_loss: 0.6251 - val_accuracy: 0.8156\n",
            "Epoch 14/100\n",
            "712/712 [==============================] - 0s 83us/sample - loss: 0.6352 - accuracy: 0.7795 - val_loss: 0.6234 - val_accuracy: 0.8156\n",
            "Epoch 15/100\n",
            "712/712 [==============================] - 0s 83us/sample - loss: 0.6345 - accuracy: 0.7795 - val_loss: 0.6229 - val_accuracy: 0.8156\n",
            "Epoch 16/100\n",
            "712/712 [==============================] - 0s 81us/sample - loss: 0.6344 - accuracy: 0.7781 - val_loss: 0.6226 - val_accuracy: 0.8156\n",
            "Epoch 17/100\n",
            "712/712 [==============================] - 0s 83us/sample - loss: 0.6348 - accuracy: 0.7781 - val_loss: 0.6226 - val_accuracy: 0.8156\n",
            "Epoch 18/100\n",
            "712/712 [==============================] - 0s 86us/sample - loss: 0.6340 - accuracy: 0.7781 - val_loss: 0.6226 - val_accuracy: 0.8156\n",
            "Epoch 19/100\n",
            "712/712 [==============================] - 0s 175us/sample - loss: 0.6334 - accuracy: 0.7795 - val_loss: 0.6226 - val_accuracy: 0.8156\n",
            "Epoch 20/100\n",
            "712/712 [==============================] - 0s 96us/sample - loss: 0.6337 - accuracy: 0.7795 - val_loss: 0.6225 - val_accuracy: 0.8156\n",
            "Epoch 21/100\n",
            "712/712 [==============================] - 0s 95us/sample - loss: 0.6337 - accuracy: 0.7781 - val_loss: 0.6224 - val_accuracy: 0.8156\n",
            "Epoch 22/100\n",
            "712/712 [==============================] - 0s 95us/sample - loss: 0.6332 - accuracy: 0.7795 - val_loss: 0.6224 - val_accuracy: 0.8156\n",
            "Epoch 23/100\n",
            "712/712 [==============================] - 0s 97us/sample - loss: 0.6334 - accuracy: 0.7795 - val_loss: 0.6224 - val_accuracy: 0.8156\n",
            "Epoch 24/100\n",
            "712/712 [==============================] - 0s 89us/sample - loss: 0.6337 - accuracy: 0.7781 - val_loss: 0.6226 - val_accuracy: 0.8156\n",
            "Epoch 25/100\n",
            "712/712 [==============================] - 0s 97us/sample - loss: 0.6339 - accuracy: 0.7767 - val_loss: 0.6224 - val_accuracy: 0.8156\n",
            "Epoch 26/100\n",
            "712/712 [==============================] - 0s 88us/sample - loss: 0.6333 - accuracy: 0.7781 - val_loss: 0.6224 - val_accuracy: 0.8156\n",
            "Epoch 27/100\n",
            "712/712 [==============================] - 0s 92us/sample - loss: 0.6329 - accuracy: 0.7795 - val_loss: 0.6224 - val_accuracy: 0.8156\n",
            "Epoch 28/100\n",
            "712/712 [==============================] - 0s 84us/sample - loss: 0.6333 - accuracy: 0.7795 - val_loss: 0.6224 - val_accuracy: 0.8156\n",
            "Epoch 29/100\n",
            "712/712 [==============================] - 0s 82us/sample - loss: 0.6328 - accuracy: 0.7795 - val_loss: 0.6224 - val_accuracy: 0.8156\n",
            "Epoch 30/100\n",
            "712/712 [==============================] - 0s 81us/sample - loss: 0.6331 - accuracy: 0.7781 - val_loss: 0.6224 - val_accuracy: 0.8156\n",
            "Epoch 31/100\n",
            "712/712 [==============================] - 0s 88us/sample - loss: 0.6331 - accuracy: 0.7795 - val_loss: 0.6223 - val_accuracy: 0.8156\n",
            "Epoch 32/100\n",
            "712/712 [==============================] - 0s 83us/sample - loss: 0.6323 - accuracy: 0.7795 - val_loss: 0.6223 - val_accuracy: 0.8156\n",
            "Epoch 33/100\n",
            "712/712 [==============================] - 0s 83us/sample - loss: 0.6324 - accuracy: 0.7809 - val_loss: 0.6217 - val_accuracy: 0.8156\n",
            "Epoch 34/100\n",
            "712/712 [==============================] - 0s 84us/sample - loss: 0.6321 - accuracy: 0.7795 - val_loss: 0.6215 - val_accuracy: 0.8156\n",
            "Epoch 35/100\n",
            "712/712 [==============================] - 0s 89us/sample - loss: 0.6328 - accuracy: 0.7753 - val_loss: 0.6212 - val_accuracy: 0.8156\n",
            "Epoch 36/100\n",
            "712/712 [==============================] - 0s 86us/sample - loss: 0.6299 - accuracy: 0.7907 - val_loss: 0.6208 - val_accuracy: 0.8156\n",
            "Epoch 37/100\n",
            "712/712 [==============================] - 0s 82us/sample - loss: 0.6317 - accuracy: 0.7879 - val_loss: 0.6206 - val_accuracy: 0.8101\n",
            "Epoch 38/100\n",
            "712/712 [==============================] - 0s 83us/sample - loss: 0.6331 - accuracy: 0.7781 - val_loss: 0.6213 - val_accuracy: 0.8156\n",
            "Epoch 39/100\n",
            "712/712 [==============================] - 0s 95us/sample - loss: 0.6318 - accuracy: 0.7795 - val_loss: 0.6208 - val_accuracy: 0.8156\n",
            "Epoch 40/100\n",
            "712/712 [==============================] - 0s 92us/sample - loss: 0.6301 - accuracy: 0.7893 - val_loss: 0.6212 - val_accuracy: 0.8156\n",
            "Epoch 41/100\n",
            "712/712 [==============================] - 0s 82us/sample - loss: 0.6290 - accuracy: 0.7992 - val_loss: 0.6213 - val_accuracy: 0.8156\n",
            "Epoch 42/100\n",
            "712/712 [==============================] - 0s 83us/sample - loss: 0.6297 - accuracy: 0.7907 - val_loss: 0.6212 - val_accuracy: 0.8156\n",
            "Epoch 43/100\n",
            "712/712 [==============================] - 0s 80us/sample - loss: 0.6321 - accuracy: 0.7865 - val_loss: 0.6219 - val_accuracy: 0.8156\n",
            "Epoch 44/100\n",
            "712/712 [==============================] - 0s 82us/sample - loss: 0.6318 - accuracy: 0.7795 - val_loss: 0.6214 - val_accuracy: 0.8101\n",
            "Epoch 45/100\n",
            "712/712 [==============================] - 0s 82us/sample - loss: 0.6335 - accuracy: 0.7865 - val_loss: 0.6216 - val_accuracy: 0.8101\n",
            "Epoch 46/100\n",
            "712/712 [==============================] - 0s 83us/sample - loss: 0.6329 - accuracy: 0.7809 - val_loss: 0.6222 - val_accuracy: 0.8156\n",
            "Epoch 47/100\n",
            "712/712 [==============================] - 0s 82us/sample - loss: 0.6330 - accuracy: 0.7809 - val_loss: 0.6222 - val_accuracy: 0.8156\n",
            "Epoch 48/100\n",
            "712/712 [==============================] - 0s 82us/sample - loss: 0.6313 - accuracy: 0.7823 - val_loss: 0.6222 - val_accuracy: 0.8156\n",
            "Epoch 49/100\n",
            "712/712 [==============================] - 0s 84us/sample - loss: 0.6321 - accuracy: 0.7879 - val_loss: 0.6220 - val_accuracy: 0.8156\n",
            "Epoch 50/100\n",
            "712/712 [==============================] - 0s 84us/sample - loss: 0.6303 - accuracy: 0.7837 - val_loss: 0.6224 - val_accuracy: 0.8156\n",
            "Epoch 51/100\n",
            "712/712 [==============================] - 0s 82us/sample - loss: 0.6286 - accuracy: 0.7963 - val_loss: 0.6225 - val_accuracy: 0.8156\n",
            "Epoch 52/100\n",
            "712/712 [==============================] - 0s 87us/sample - loss: 0.6317 - accuracy: 0.7865 - val_loss: 0.6226 - val_accuracy: 0.8156\n",
            "Epoch 53/100\n",
            "712/712 [==============================] - 0s 85us/sample - loss: 0.6310 - accuracy: 0.7809 - val_loss: 0.6228 - val_accuracy: 0.8156\n",
            "Epoch 54/100\n",
            "712/712 [==============================] - 0s 85us/sample - loss: 0.6320 - accuracy: 0.7865 - val_loss: 0.6229 - val_accuracy: 0.8156\n",
            "Epoch 55/100\n",
            "712/712 [==============================] - 0s 91us/sample - loss: 0.6306 - accuracy: 0.7851 - val_loss: 0.6231 - val_accuracy: 0.8212\n",
            "Epoch 56/100\n",
            "712/712 [==============================] - 0s 86us/sample - loss: 0.6302 - accuracy: 0.7907 - val_loss: 0.6219 - val_accuracy: 0.8380\n",
            "Epoch 57/100\n",
            "712/712 [==============================] - 0s 81us/sample - loss: 0.6308 - accuracy: 0.7935 - val_loss: 0.6227 - val_accuracy: 0.8101\n",
            "Epoch 58/100\n",
            "712/712 [==============================] - 0s 83us/sample - loss: 0.6309 - accuracy: 0.7949 - val_loss: 0.6232 - val_accuracy: 0.8101\n",
            "Epoch 59/100\n",
            "712/712 [==============================] - 0s 84us/sample - loss: 0.6286 - accuracy: 0.7978 - val_loss: 0.6236 - val_accuracy: 0.8101\n",
            "Epoch 60/100\n",
            "712/712 [==============================] - 0s 83us/sample - loss: 0.6298 - accuracy: 0.7949 - val_loss: 0.6236 - val_accuracy: 0.8101\n",
            "Epoch 61/100\n",
            "712/712 [==============================] - 0s 84us/sample - loss: 0.6315 - accuracy: 0.7851 - val_loss: 0.6237 - val_accuracy: 0.8101\n",
            "Epoch 62/100\n",
            "712/712 [==============================] - 0s 83us/sample - loss: 0.6301 - accuracy: 0.7893 - val_loss: 0.6238 - val_accuracy: 0.8101\n",
            "Epoch 63/100\n",
            "712/712 [==============================] - 0s 84us/sample - loss: 0.6287 - accuracy: 0.7907 - val_loss: 0.6236 - val_accuracy: 0.8212\n",
            "Epoch 64/100\n",
            "712/712 [==============================] - 0s 86us/sample - loss: 0.6289 - accuracy: 0.7935 - val_loss: 0.6235 - val_accuracy: 0.8101\n",
            "Epoch 65/100\n",
            "712/712 [==============================] - 0s 83us/sample - loss: 0.6294 - accuracy: 0.7978 - val_loss: 0.6237 - val_accuracy: 0.8101\n",
            "Epoch 66/100\n",
            "712/712 [==============================] - 0s 83us/sample - loss: 0.6300 - accuracy: 0.7879 - val_loss: 0.6239 - val_accuracy: 0.8101\n",
            "Epoch 67/100\n",
            "712/712 [==============================] - 0s 84us/sample - loss: 0.6283 - accuracy: 0.8034 - val_loss: 0.6236 - val_accuracy: 0.8101\n",
            "Epoch 68/100\n",
            "712/712 [==============================] - 0s 88us/sample - loss: 0.6278 - accuracy: 0.7978 - val_loss: 0.6242 - val_accuracy: 0.8101\n",
            "Epoch 69/100\n",
            "712/712 [==============================] - 0s 100us/sample - loss: 0.6289 - accuracy: 0.7921 - val_loss: 0.6244 - val_accuracy: 0.8156\n",
            "Epoch 70/100\n",
            "712/712 [==============================] - 0s 94us/sample - loss: 0.6291 - accuracy: 0.7935 - val_loss: 0.6245 - val_accuracy: 0.8101\n",
            "Epoch 71/100\n",
            "712/712 [==============================] - 0s 95us/sample - loss: 0.6275 - accuracy: 0.7963 - val_loss: 0.6244 - val_accuracy: 0.8101\n",
            "Epoch 72/100\n",
            "712/712 [==============================] - 0s 102us/sample - loss: 0.6269 - accuracy: 0.8048 - val_loss: 0.6237 - val_accuracy: 0.8101\n",
            "Epoch 73/100\n",
            "712/712 [==============================] - 0s 102us/sample - loss: 0.6311 - accuracy: 0.7978 - val_loss: 0.6243 - val_accuracy: 0.8101\n",
            "Epoch 74/100\n",
            "712/712 [==============================] - 0s 93us/sample - loss: 0.6287 - accuracy: 0.7949 - val_loss: 0.6248 - val_accuracy: 0.8101\n",
            "Epoch 75/100\n",
            "712/712 [==============================] - 0s 95us/sample - loss: 0.6261 - accuracy: 0.7978 - val_loss: 0.6250 - val_accuracy: 0.8101\n",
            "Epoch 76/100\n",
            "712/712 [==============================] - 0s 97us/sample - loss: 0.6249 - accuracy: 0.8090 - val_loss: 0.6238 - val_accuracy: 0.8101\n",
            "Epoch 77/100\n",
            "712/712 [==============================] - 0s 90us/sample - loss: 0.6277 - accuracy: 0.8006 - val_loss: 0.6234 - val_accuracy: 0.8101\n",
            "Epoch 78/100\n",
            "712/712 [==============================] - 0s 90us/sample - loss: 0.6277 - accuracy: 0.8020 - val_loss: 0.6246 - val_accuracy: 0.8101\n",
            "Epoch 79/100\n",
            "712/712 [==============================] - 0s 85us/sample - loss: 0.6255 - accuracy: 0.8020 - val_loss: 0.6243 - val_accuracy: 0.8101\n",
            "Epoch 80/100\n",
            "712/712 [==============================] - 0s 86us/sample - loss: 0.6255 - accuracy: 0.7963 - val_loss: 0.6242 - val_accuracy: 0.8156\n",
            "Epoch 81/100\n",
            "712/712 [==============================] - 0s 85us/sample - loss: 0.6279 - accuracy: 0.7978 - val_loss: 0.6238 - val_accuracy: 0.8156\n",
            "Epoch 82/100\n",
            "712/712 [==============================] - 0s 84us/sample - loss: 0.6269 - accuracy: 0.7978 - val_loss: 0.6236 - val_accuracy: 0.8101\n",
            "Epoch 83/100\n",
            "712/712 [==============================] - 0s 87us/sample - loss: 0.6250 - accuracy: 0.8076 - val_loss: 0.6241 - val_accuracy: 0.8156\n",
            "Epoch 84/100\n",
            "712/712 [==============================] - 0s 92us/sample - loss: 0.6257 - accuracy: 0.7992 - val_loss: 0.6241 - val_accuracy: 0.8156\n",
            "Epoch 85/100\n",
            "712/712 [==============================] - 0s 88us/sample - loss: 0.6237 - accuracy: 0.8090 - val_loss: 0.6247 - val_accuracy: 0.8156\n",
            "Epoch 86/100\n",
            "712/712 [==============================] - 0s 86us/sample - loss: 0.6237 - accuracy: 0.8048 - val_loss: 0.6247 - val_accuracy: 0.8156\n",
            "Epoch 87/100\n",
            "712/712 [==============================] - 0s 87us/sample - loss: 0.6226 - accuracy: 0.8132 - val_loss: 0.6248 - val_accuracy: 0.8156\n",
            "Epoch 88/100\n",
            "712/712 [==============================] - 0s 82us/sample - loss: 0.6252 - accuracy: 0.8034 - val_loss: 0.6240 - val_accuracy: 0.8156\n",
            "Epoch 89/100\n",
            "712/712 [==============================] - 0s 87us/sample - loss: 0.6246 - accuracy: 0.8076 - val_loss: 0.6238 - val_accuracy: 0.8156\n",
            "Epoch 90/100\n",
            "712/712 [==============================] - 0s 86us/sample - loss: 0.6258 - accuracy: 0.8048 - val_loss: 0.6247 - val_accuracy: 0.8156\n",
            "Epoch 91/100\n",
            "712/712 [==============================] - 0s 84us/sample - loss: 0.6250 - accuracy: 0.8062 - val_loss: 0.6247 - val_accuracy: 0.8101\n",
            "Epoch 92/100\n",
            "712/712 [==============================] - 0s 83us/sample - loss: 0.6226 - accuracy: 0.8118 - val_loss: 0.6244 - val_accuracy: 0.8101\n",
            "Epoch 93/100\n",
            "712/712 [==============================] - 0s 85us/sample - loss: 0.6230 - accuracy: 0.8118 - val_loss: 0.6249 - val_accuracy: 0.8156\n",
            "Epoch 94/100\n",
            "712/712 [==============================] - 0s 86us/sample - loss: 0.6251 - accuracy: 0.8034 - val_loss: 0.6244 - val_accuracy: 0.8156\n",
            "Epoch 95/100\n",
            "712/712 [==============================] - 0s 83us/sample - loss: 0.6228 - accuracy: 0.8090 - val_loss: 0.6251 - val_accuracy: 0.8156\n",
            "Epoch 96/100\n",
            "712/712 [==============================] - 0s 83us/sample - loss: 0.6261 - accuracy: 0.8034 - val_loss: 0.6249 - val_accuracy: 0.8156\n",
            "Epoch 97/100\n",
            "712/712 [==============================] - 0s 84us/sample - loss: 0.6229 - accuracy: 0.8090 - val_loss: 0.6250 - val_accuracy: 0.8156\n",
            "Epoch 98/100\n",
            "712/712 [==============================] - 0s 81us/sample - loss: 0.6230 - accuracy: 0.8090 - val_loss: 0.6247 - val_accuracy: 0.8101\n",
            "Epoch 99/100\n",
            "712/712 [==============================] - 0s 85us/sample - loss: 0.6248 - accuracy: 0.8062 - val_loss: 0.6247 - val_accuracy: 0.8101\n",
            "Epoch 100/100\n",
            "712/712 [==============================] - 0s 84us/sample - loss: 0.6254 - accuracy: 0.8020 - val_loss: 0.6250 - val_accuracy: 0.8156\n"
          ],
          "name": "stdout"
        }
      ]
    },
    {
      "cell_type": "markdown",
      "metadata": {
        "id": "ySLvTxRLp5ZC",
        "colab_type": "text"
      },
      "source": [
        "# Evaluation\n",
        "Let's check how our model did on the validation part of the dataset."
      ]
    },
    {
      "cell_type": "code",
      "metadata": {
        "id": "4yI0BPknp5ZC",
        "colab_type": "code",
        "colab": {},
        "outputId": "97614d17-f41d-4cc6-faf1-15b7fd647a9b"
      },
      "source": [
        "test_loss, test_acc = model.evaluate(X_test, y_test, verbose=2)\n",
        "print('\\nTest accuracy:', test_acc)\n",
        "\n",
        "plt.figure(figsize=[8,6])\n",
        "plt.plot(history.history['accuracy'],'r',linewidth=3.0)\n",
        "plt.plot(history.history['val_accuracy'],'b',linewidth=3.0)\n",
        "plt.legend(['Training Accuracy', 'Validation Accuracy'],fontsize=18)\n",
        "plt.xlabel('Epochs ',fontsize=16)\n",
        "plt.ylabel('Accuracy',fontsize=16)\n",
        "plt.title('Accuracy Curves',fontsize=16)\n",
        "plt.show()"
      ],
      "execution_count": 0,
      "outputs": [
        {
          "output_type": "stream",
          "text": [
            "179/179 - 0s - loss: 0.6250 - accuracy: 0.8156\n",
            "\n",
            "Test accuracy: 0.8156425\n"
          ],
          "name": "stdout"
        },
        {
          "output_type": "display_data",
          "data": {
            "image/png": "[encoded data removed]",
            "text/plain": [
              "<Figure size 576x432 with 1 Axes>"
            ]
          },
          "metadata": {
            "tags": [],
            "needs_background": "light"
          }
        }
      ]
    },
    {
      "cell_type": "markdown",
      "metadata": {
        "id": "giCKKNfvp5ZE",
        "colab_type": "text"
      },
      "source": [
        "We can see that by using dropout layers we prevented it from overfitting, exactly what we've wanted."
      ]
    },
    {
      "cell_type": "markdown",
      "metadata": {
        "id": "PXMoy6Uap5ZE",
        "colab_type": "text"
      },
      "source": [
        "# Deployment\n",
        "Let's predict the testing dataset."
      ]
    },
    {
      "cell_type": "markdown",
      "metadata": {
        "id": "d0l59TPnp5ZF",
        "colab_type": "text"
      },
      "source": [
        "## Preparation\n",
        "First we need to prepare the test data."
      ]
    },
    {
      "cell_type": "code",
      "metadata": {
        "id": "RpW9vmgsp5ZG",
        "colab_type": "code",
        "colab": {}
      },
      "source": [
        "filteredTestData = oneHotEncode(filteredTestData, \"Pclass\")\n",
        "filteredTestData['Sex'] = filteredTestData.apply(sex_to_numerical, axis=1)\n",
        "filteredTestData.Age.fillna((filteredTestData['Age'].mean()), inplace=True)\n",
        "filteredTestData = normalize_age(filteredTestData)"
      ],
      "execution_count": 0,
      "outputs": []
    },
    {
      "cell_type": "markdown",
      "metadata": {
        "id": "BZOVe5kNp5ZH",
        "colab_type": "text"
      },
      "source": [
        "Now let's train the model on the whole dataset so that we can get the most out of what we've got."
      ]
    },
    {
      "cell_type": "code",
      "metadata": {
        "id": "x7u22zIqp5ZI",
        "colab_type": "code",
        "colab": {},
        "outputId": "0e8fa72b-368f-4fc8-c868-44a2a6c23509"
      },
      "source": [
        "model.fit(X, y, epochs=100)"
      ],
      "execution_count": 0,
      "outputs": [
        {
          "output_type": "stream",
          "text": [
            "Train on 891 samples\n",
            "Epoch 1/100\n",
            "891/891 [==============================] - 0s 70us/sample - loss: 0.6239 - accuracy: 0.8070\n",
            "Epoch 2/100\n",
            "891/891 [==============================] - 0s 72us/sample - loss: 0.6248 - accuracy: 0.8114\n",
            "Epoch 3/100\n",
            "891/891 [==============================] - 0s 79us/sample - loss: 0.6243 - accuracy: 0.8114\n",
            "Epoch 4/100\n",
            "891/891 [==============================] - 0s 73us/sample - loss: 0.6231 - accuracy: 0.8148\n",
            "Epoch 5/100\n",
            "891/891 [==============================] - 0s 69us/sample - loss: 0.6236 - accuracy: 0.8137\n",
            "Epoch 6/100\n",
            "891/891 [==============================] - 0s 64us/sample - loss: 0.6240 - accuracy: 0.8148\n",
            "Epoch 7/100\n",
            "891/891 [==============================] - 0s 64us/sample - loss: 0.6238 - accuracy: 0.8092\n",
            "Epoch 8/100\n",
            "891/891 [==============================] - 0s 65us/sample - loss: 0.6252 - accuracy: 0.8036\n",
            "Epoch 9/100\n",
            "891/891 [==============================] - 0s 63us/sample - loss: 0.6250 - accuracy: 0.8036\n",
            "Epoch 10/100\n",
            "891/891 [==============================] - 0s 66us/sample - loss: 0.6244 - accuracy: 0.8103\n",
            "Epoch 11/100\n",
            "891/891 [==============================] - 0s 67us/sample - loss: 0.6254 - accuracy: 0.8092\n",
            "Epoch 12/100\n",
            "891/891 [==============================] - 0s 61us/sample - loss: 0.6254 - accuracy: 0.8092\n",
            "Epoch 13/100\n",
            "891/891 [==============================] - 0s 63us/sample - loss: 0.6238 - accuracy: 0.8092\n",
            "Epoch 14/100\n",
            "891/891 [==============================] - 0s 64us/sample - loss: 0.6258 - accuracy: 0.8058\n",
            "Epoch 15/100\n",
            "891/891 [==============================] - 0s 63us/sample - loss: 0.6220 - accuracy: 0.8171\n",
            "Epoch 16/100\n",
            "891/891 [==============================] - 0s 63us/sample - loss: 0.6235 - accuracy: 0.8114\n",
            "Epoch 17/100\n",
            "891/891 [==============================] - 0s 61us/sample - loss: 0.6232 - accuracy: 0.8137\n",
            "Epoch 18/100\n",
            "891/891 [==============================] - 0s 61us/sample - loss: 0.6253 - accuracy: 0.8070\n",
            "Epoch 19/100\n",
            "891/891 [==============================] - 0s 64us/sample - loss: 0.6234 - accuracy: 0.8171\n",
            "Epoch 20/100\n",
            "891/891 [==============================] - 0s 64us/sample - loss: 0.6233 - accuracy: 0.8148\n",
            "Epoch 21/100\n",
            "891/891 [==============================] - 0s 64us/sample - loss: 0.6246 - accuracy: 0.8092\n",
            "Epoch 22/100\n",
            "891/891 [==============================] - 0s 66us/sample - loss: 0.6246 - accuracy: 0.8137\n",
            "Epoch 23/100\n",
            "891/891 [==============================] - 0s 66us/sample - loss: 0.6234 - accuracy: 0.8148\n",
            "Epoch 24/100\n",
            "891/891 [==============================] - 0s 65us/sample - loss: 0.6251 - accuracy: 0.8114\n",
            "Epoch 25/100\n",
            "891/891 [==============================] - 0s 63us/sample - loss: 0.6247 - accuracy: 0.8092\n",
            "Epoch 26/100\n",
            "891/891 [==============================] - 0s 71us/sample - loss: 0.6249 - accuracy: 0.8114\n",
            "Epoch 27/100\n",
            "891/891 [==============================] - 0s 67us/sample - loss: 0.6255 - accuracy: 0.8081\n",
            "Epoch 28/100\n",
            "891/891 [==============================] - 0s 64us/sample - loss: 0.6221 - accuracy: 0.8204\n",
            "Epoch 29/100\n",
            "891/891 [==============================] - 0s 64us/sample - loss: 0.6242 - accuracy: 0.8126\n",
            "Epoch 30/100\n",
            "891/891 [==============================] - 0s 64us/sample - loss: 0.6224 - accuracy: 0.8137\n",
            "Epoch 31/100\n",
            "891/891 [==============================] - 0s 63us/sample - loss: 0.6240 - accuracy: 0.8148\n",
            "Epoch 32/100\n",
            "891/891 [==============================] - 0s 64us/sample - loss: 0.6223 - accuracy: 0.8081\n",
            "Epoch 33/100\n",
            "891/891 [==============================] - 0s 65us/sample - loss: 0.6250 - accuracy: 0.8114\n",
            "Epoch 34/100\n",
            "891/891 [==============================] - 0s 66us/sample - loss: 0.6245 - accuracy: 0.8081\n",
            "Epoch 35/100\n",
            "891/891 [==============================] - 0s 70us/sample - loss: 0.6229 - accuracy: 0.8126\n",
            "Epoch 36/100\n",
            "891/891 [==============================] - 0s 67us/sample - loss: 0.6221 - accuracy: 0.8182\n",
            "Epoch 37/100\n",
            "891/891 [==============================] - 0s 65us/sample - loss: 0.6224 - accuracy: 0.8182\n",
            "Epoch 38/100\n",
            "891/891 [==============================] - 0s 65us/sample - loss: 0.6245 - accuracy: 0.8058\n",
            "Epoch 39/100\n",
            "891/891 [==============================] - 0s 70us/sample - loss: 0.6222 - accuracy: 0.8171\n",
            "Epoch 40/100\n",
            "891/891 [==============================] - 0s 76us/sample - loss: 0.6240 - accuracy: 0.8148\n",
            "Epoch 41/100\n",
            "891/891 [==============================] - 0s 81us/sample - loss: 0.6216 - accuracy: 0.8182\n",
            "Epoch 42/100\n",
            "891/891 [==============================] - 0s 66us/sample - loss: 0.6223 - accuracy: 0.8137\n",
            "Epoch 43/100\n",
            "891/891 [==============================] - 0s 68us/sample - loss: 0.6246 - accuracy: 0.8103\n",
            "Epoch 44/100\n",
            "891/891 [==============================] - 0s 65us/sample - loss: 0.6232 - accuracy: 0.8148\n",
            "Epoch 45/100\n",
            "891/891 [==============================] - 0s 65us/sample - loss: 0.6223 - accuracy: 0.8171\n",
            "Epoch 46/100\n",
            "891/891 [==============================] - 0s 63us/sample - loss: 0.6229 - accuracy: 0.8159\n",
            "Epoch 47/100\n",
            "891/891 [==============================] - 0s 64us/sample - loss: 0.6215 - accuracy: 0.8204\n",
            "Epoch 48/100\n",
            "891/891 [==============================] - 0s 66us/sample - loss: 0.6209 - accuracy: 0.8193\n",
            "Epoch 49/100\n",
            "891/891 [==============================] - 0s 66us/sample - loss: 0.6236 - accuracy: 0.8103\n",
            "Epoch 50/100\n",
            "891/891 [==============================] - 0s 66us/sample - loss: 0.6226 - accuracy: 0.8159\n",
            "Epoch 51/100\n",
            "891/891 [==============================] - 0s 65us/sample - loss: 0.6236 - accuracy: 0.8070\n",
            "Epoch 52/100\n",
            "891/891 [==============================] - 0s 63us/sample - loss: 0.6222 - accuracy: 0.8114\n",
            "Epoch 53/100\n",
            "891/891 [==============================] - 0s 61us/sample - loss: 0.6212 - accuracy: 0.8193\n",
            "Epoch 54/100\n",
            "891/891 [==============================] - 0s 64us/sample - loss: 0.6227 - accuracy: 0.8126\n",
            "Epoch 55/100\n",
            "891/891 [==============================] - 0s 65us/sample - loss: 0.6210 - accuracy: 0.8215\n",
            "Epoch 56/100\n",
            "891/891 [==============================] - 0s 63us/sample - loss: 0.6222 - accuracy: 0.8171\n",
            "Epoch 57/100\n",
            "891/891 [==============================] - 0s 64us/sample - loss: 0.6213 - accuracy: 0.8148\n",
            "Epoch 58/100\n",
            "891/891 [==============================] - 0s 64us/sample - loss: 0.6211 - accuracy: 0.8193\n",
            "Epoch 59/100\n",
            "891/891 [==============================] - 0s 64us/sample - loss: 0.6208 - accuracy: 0.8204\n",
            "Epoch 60/100\n",
            "891/891 [==============================] - 0s 79us/sample - loss: 0.6202 - accuracy: 0.8260\n",
            "Epoch 61/100\n",
            "891/891 [==============================] - 0s 69us/sample - loss: 0.6196 - accuracy: 0.8249\n",
            "Epoch 62/100\n",
            "891/891 [==============================] - 0s 65us/sample - loss: 0.6231 - accuracy: 0.8148\n",
            "Epoch 63/100\n",
            "891/891 [==============================] - 0s 65us/sample - loss: 0.6216 - accuracy: 0.8215\n",
            "Epoch 64/100\n",
            "891/891 [==============================] - 0s 64us/sample - loss: 0.6226 - accuracy: 0.8159\n",
            "Epoch 65/100\n",
            "891/891 [==============================] - 0s 64us/sample - loss: 0.6212 - accuracy: 0.8227\n",
            "Epoch 66/100\n",
            "891/891 [==============================] - 0s 65us/sample - loss: 0.6200 - accuracy: 0.8227\n",
            "Epoch 67/100\n",
            "891/891 [==============================] - 0s 65us/sample - loss: 0.6217 - accuracy: 0.8249\n",
            "Epoch 68/100\n",
            "891/891 [==============================] - 0s 64us/sample - loss: 0.6198 - accuracy: 0.8227\n",
            "Epoch 69/100\n",
            "891/891 [==============================] - 0s 64us/sample - loss: 0.6218 - accuracy: 0.8103\n",
            "Epoch 70/100\n",
            "891/891 [==============================] - 0s 61us/sample - loss: 0.6207 - accuracy: 0.8171\n",
            "Epoch 71/100\n",
            "891/891 [==============================] - 0s 63us/sample - loss: 0.6190 - accuracy: 0.8272\n",
            "Epoch 72/100\n",
            "891/891 [==============================] - 0s 64us/sample - loss: 0.6200 - accuracy: 0.8182\n",
            "Epoch 73/100\n",
            "891/891 [==============================] - 0s 64us/sample - loss: 0.6210 - accuracy: 0.8238\n",
            "Epoch 74/100\n",
            "891/891 [==============================] - 0s 61us/sample - loss: 0.6204 - accuracy: 0.8227\n",
            "Epoch 75/100\n",
            "891/891 [==============================] - 0s 61us/sample - loss: 0.6199 - accuracy: 0.8249\n",
            "Epoch 76/100\n",
            "891/891 [==============================] - 0s 64us/sample - loss: 0.6195 - accuracy: 0.8227\n",
            "Epoch 77/100\n",
            "891/891 [==============================] - 0s 64us/sample - loss: 0.6196 - accuracy: 0.8294\n",
            "Epoch 78/100\n",
            "891/891 [==============================] - 0s 61us/sample - loss: 0.6201 - accuracy: 0.8227\n",
            "Epoch 79/100\n",
            "891/891 [==============================] - 0s 67us/sample - loss: 0.6197 - accuracy: 0.8316\n",
            "Epoch 80/100\n",
            "891/891 [==============================] - 0s 63us/sample - loss: 0.6190 - accuracy: 0.8249\n",
            "Epoch 81/100\n",
            "891/891 [==============================] - 0s 64us/sample - loss: 0.6189 - accuracy: 0.8260\n",
            "Epoch 82/100\n",
            "891/891 [==============================] - 0s 65us/sample - loss: 0.6205 - accuracy: 0.8182\n",
            "Epoch 83/100\n",
            "891/891 [==============================] - 0s 65us/sample - loss: 0.6195 - accuracy: 0.8260\n",
            "Epoch 84/100\n",
            "891/891 [==============================] - 0s 64us/sample - loss: 0.6191 - accuracy: 0.8249\n",
            "Epoch 85/100\n",
            "891/891 [==============================] - 0s 64us/sample - loss: 0.6192 - accuracy: 0.8272\n",
            "Epoch 86/100\n",
            "891/891 [==============================] - 0s 65us/sample - loss: 0.6208 - accuracy: 0.8182\n",
            "Epoch 87/100\n",
            "891/891 [==============================] - 0s 64us/sample - loss: 0.6197 - accuracy: 0.8260\n",
            "Epoch 88/100\n",
            "891/891 [==============================] - 0s 66us/sample - loss: 0.6192 - accuracy: 0.8227\n",
            "Epoch 89/100\n",
            "891/891 [==============================] - 0s 61us/sample - loss: 0.6196 - accuracy: 0.8238\n",
            "Epoch 90/100\n",
            "891/891 [==============================] - 0s 64us/sample - loss: 0.6210 - accuracy: 0.8193\n",
            "Epoch 91/100\n",
            "891/891 [==============================] - 0s 63us/sample - loss: 0.6190 - accuracy: 0.8238\n",
            "Epoch 92/100\n",
            "891/891 [==============================] - 0s 63us/sample - loss: 0.6196 - accuracy: 0.8260\n",
            "Epoch 93/100\n",
            "891/891 [==============================] - 0s 64us/sample - loss: 0.6202 - accuracy: 0.8227\n",
            "Epoch 94/100\n",
            "891/891 [==============================] - 0s 64us/sample - loss: 0.6195 - accuracy: 0.8238\n",
            "Epoch 95/100\n",
            "891/891 [==============================] - 0s 64us/sample - loss: 0.6189 - accuracy: 0.8272\n",
            "Epoch 96/100\n",
            "891/891 [==============================] - 0s 67us/sample - loss: 0.6177 - accuracy: 0.8339\n",
            "Epoch 97/100\n",
            "891/891 [==============================] - 0s 64us/sample - loss: 0.6200 - accuracy: 0.8249\n",
            "Epoch 98/100\n",
            "891/891 [==============================] - 0s 64us/sample - loss: 0.6189 - accuracy: 0.8272\n",
            "Epoch 99/100\n",
            "891/891 [==============================] - 0s 65us/sample - loss: 0.6189 - accuracy: 0.8283\n",
            "Epoch 100/100\n",
            "891/891 [==============================] - 0s 63us/sample - loss: 0.6183 - accuracy: 0.8316\n"
          ],
          "name": "stdout"
        },
        {
          "output_type": "execute_result",
          "data": {
            "text/plain": [
              "<tensorflow.python.keras.callbacks.History at 0x7f2c158e0908>"
            ]
          },
          "metadata": {
            "tags": []
          },
          "execution_count": 25
        }
      ]
    },
    {
      "cell_type": "markdown",
      "metadata": {
        "id": "k1fjjogMp5ZJ",
        "colab_type": "text"
      },
      "source": [
        "## Inference"
      ]
    },
    {
      "cell_type": "markdown",
      "metadata": {
        "id": "rWN8B_GPp5ZK",
        "colab_type": "text"
      },
      "source": [
        "Let's finally run the prediction on the test dataset."
      ]
    },
    {
      "cell_type": "code",
      "metadata": {
        "id": "tJPW4_Fnp5ZK",
        "colab_type": "code",
        "colab": {},
        "outputId": "27324764-540b-4f12-b2e2-5253de20f54b"
      },
      "source": [
        "predictions = model.predict(filteredTestData)\n",
        "predictions = np.where(predictions > 0.5, 1, 0)\n",
        "predictions"
      ],
      "execution_count": 0,
      "outputs": [
        {
          "output_type": "execute_result",
          "data": {
            "text/plain": [
              "array([[0],\n",
              "       [0],\n",
              "       [0],\n",
              "       [0],\n",
              "       [0],\n",
              "       [0],\n",
              "       [0],\n",
              "       [0],\n",
              "       [1],\n",
              "       [0],\n",
              "       [0],\n",
              "       [0],\n",
              "       [1],\n",
              "       [0],\n",
              "       [1],\n",
              "       [1],\n",
              "       [0],\n",
              "       [0],\n",
              "       [0],\n",
              "       [0],\n",
              "       [0],\n",
              "       [1],\n",
              "       [1],\n",
              "       [0],\n",
              "       [1],\n",
              "       [0],\n",
              "       [1],\n",
              "       [0],\n",
              "       [0],\n",
              "       [0],\n",
              "       [0],\n",
              "       [0],\n",
              "       [0],\n",
              "       [0],\n",
              "       [0],\n",
              "       [0],\n",
              "       [0],\n",
              "       [1],\n",
              "       [0],\n",
              "       [0],\n",
              "       [0],\n",
              "       [0],\n",
              "       [0],\n",
              "       [1],\n",
              "       [1],\n",
              "       [0],\n",
              "       [0],\n",
              "       [0],\n",
              "       [1],\n",
              "       [0],\n",
              "       [0],\n",
              "       [0],\n",
              "       [1],\n",
              "       [1],\n",
              "       [0],\n",
              "       [0],\n",
              "       [0],\n",
              "       [0],\n",
              "       [0],\n",
              "       [1],\n",
              "       [0],\n",
              "       [0],\n",
              "       [0],\n",
              "       [1],\n",
              "       [0],\n",
              "       [1],\n",
              "       [1],\n",
              "       [0],\n",
              "       [0],\n",
              "       [1],\n",
              "       [1],\n",
              "       [0],\n",
              "       [0],\n",
              "       [0],\n",
              "       [1],\n",
              "       [0],\n",
              "       [0],\n",
              "       [1],\n",
              "       [0],\n",
              "       [1],\n",
              "       [1],\n",
              "       [0],\n",
              "       [0],\n",
              "       [0],\n",
              "       [0],\n",
              "       [0],\n",
              "       [0],\n",
              "       [1],\n",
              "       [0],\n",
              "       [1],\n",
              "       [0],\n",
              "       [0],\n",
              "       [1],\n",
              "       [0],\n",
              "       [0],\n",
              "       [0],\n",
              "       [1],\n",
              "       [0],\n",
              "       [1],\n",
              "       [0],\n",
              "       [1],\n",
              "       [0],\n",
              "       [0],\n",
              "       [0],\n",
              "       [1],\n",
              "       [0],\n",
              "       [0],\n",
              "       [0],\n",
              "       [0],\n",
              "       [0],\n",
              "       [0],\n",
              "       [0],\n",
              "       [1],\n",
              "       [1],\n",
              "       [1],\n",
              "       [0],\n",
              "       [0],\n",
              "       [1],\n",
              "       [0],\n",
              "       [1],\n",
              "       [1],\n",
              "       [0],\n",
              "       [1],\n",
              "       [0],\n",
              "       [0],\n",
              "       [1],\n",
              "       [0],\n",
              "       [0],\n",
              "       [0],\n",
              "       [0],\n",
              "       [0],\n",
              "       [0],\n",
              "       [0],\n",
              "       [0],\n",
              "       [0],\n",
              "       [0],\n",
              "       [0],\n",
              "       [0],\n",
              "       [1],\n",
              "       [0],\n",
              "       [0],\n",
              "       [1],\n",
              "       [0],\n",
              "       [0],\n",
              "       [0],\n",
              "       [0],\n",
              "       [0],\n",
              "       [0],\n",
              "       [0],\n",
              "       [0],\n",
              "       [1],\n",
              "       [0],\n",
              "       [0],\n",
              "       [0],\n",
              "       [0],\n",
              "       [0],\n",
              "       [1],\n",
              "       [1],\n",
              "       [0],\n",
              "       [1],\n",
              "       [0],\n",
              "       [1],\n",
              "       [1],\n",
              "       [0],\n",
              "       [0],\n",
              "       [0],\n",
              "       [0],\n",
              "       [0],\n",
              "       [1],\n",
              "       [1],\n",
              "       [0],\n",
              "       [0],\n",
              "       [0],\n",
              "       [0],\n",
              "       [0],\n",
              "       [1],\n",
              "       [1],\n",
              "       [0],\n",
              "       [1],\n",
              "       [1],\n",
              "       [0],\n",
              "       [0],\n",
              "       [1],\n",
              "       [0],\n",
              "       [1],\n",
              "       [0],\n",
              "       [1],\n",
              "       [0],\n",
              "       [0],\n",
              "       [0],\n",
              "       [0],\n",
              "       [0],\n",
              "       [0],\n",
              "       [0],\n",
              "       [1],\n",
              "       [0],\n",
              "       [1],\n",
              "       [1],\n",
              "       [0],\n",
              "       [0],\n",
              "       [0],\n",
              "       [1],\n",
              "       [0],\n",
              "       [1],\n",
              "       [0],\n",
              "       [0],\n",
              "       [0],\n",
              "       [0],\n",
              "       [1],\n",
              "       [0],\n",
              "       [0],\n",
              "       [0],\n",
              "       [0],\n",
              "       [1],\n",
              "       [0],\n",
              "       [0],\n",
              "       [0],\n",
              "       [0],\n",
              "       [1],\n",
              "       [0],\n",
              "       [1],\n",
              "       [0],\n",
              "       [1],\n",
              "       [0],\n",
              "       [1],\n",
              "       [0],\n",
              "       [0],\n",
              "       [0],\n",
              "       [0],\n",
              "       [0],\n",
              "       [0],\n",
              "       [1],\n",
              "       [0],\n",
              "       [0],\n",
              "       [0],\n",
              "       [0],\n",
              "       [0],\n",
              "       [0],\n",
              "       [1],\n",
              "       [1],\n",
              "       [1],\n",
              "       [1],\n",
              "       [0],\n",
              "       [0],\n",
              "       [0],\n",
              "       [0],\n",
              "       [1],\n",
              "       [0],\n",
              "       [1],\n",
              "       [0],\n",
              "       [1],\n",
              "       [0],\n",
              "       [0],\n",
              "       [0],\n",
              "       [0],\n",
              "       [0],\n",
              "       [0],\n",
              "       [0],\n",
              "       [1],\n",
              "       [0],\n",
              "       [0],\n",
              "       [0],\n",
              "       [1],\n",
              "       [1],\n",
              "       [0],\n",
              "       [0],\n",
              "       [0],\n",
              "       [0],\n",
              "       [0],\n",
              "       [0],\n",
              "       [0],\n",
              "       [0],\n",
              "       [1],\n",
              "       [0],\n",
              "       [0],\n",
              "       [1],\n",
              "       [0],\n",
              "       [0],\n",
              "       [0],\n",
              "       [0],\n",
              "       [1],\n",
              "       [1],\n",
              "       [0],\n",
              "       [1],\n",
              "       [1],\n",
              "       [0],\n",
              "       [0],\n",
              "       [0],\n",
              "       [0],\n",
              "       [0],\n",
              "       [0],\n",
              "       [0],\n",
              "       [0],\n",
              "       [0],\n",
              "       [0],\n",
              "       [0],\n",
              "       [1],\n",
              "       [0],\n",
              "       [0],\n",
              "       [0],\n",
              "       [0],\n",
              "       [0],\n",
              "       [0],\n",
              "       [0],\n",
              "       [0],\n",
              "       [1],\n",
              "       [0],\n",
              "       [1],\n",
              "       [0],\n",
              "       [0],\n",
              "       [0],\n",
              "       [0],\n",
              "       [0],\n",
              "       [0],\n",
              "       [1],\n",
              "       [1],\n",
              "       [0],\n",
              "       [0],\n",
              "       [0],\n",
              "       [0],\n",
              "       [0],\n",
              "       [0],\n",
              "       [0],\n",
              "       [0],\n",
              "       [1],\n",
              "       [0],\n",
              "       [1],\n",
              "       [0],\n",
              "       [0],\n",
              "       [0],\n",
              "       [1],\n",
              "       [0],\n",
              "       [0],\n",
              "       [0],\n",
              "       [0],\n",
              "       [0],\n",
              "       [0],\n",
              "       [0],\n",
              "       [0],\n",
              "       [0],\n",
              "       [0],\n",
              "       [0],\n",
              "       [0],\n",
              "       [1],\n",
              "       [0],\n",
              "       [1],\n",
              "       [0],\n",
              "       [0],\n",
              "       [0],\n",
              "       [1],\n",
              "       [1],\n",
              "       [0],\n",
              "       [0],\n",
              "       [0],\n",
              "       [1],\n",
              "       [0],\n",
              "       [1],\n",
              "       [0],\n",
              "       [0],\n",
              "       [0],\n",
              "       [0],\n",
              "       [1],\n",
              "       [1],\n",
              "       [0],\n",
              "       [1],\n",
              "       [0],\n",
              "       [0],\n",
              "       [1],\n",
              "       [1],\n",
              "       [0],\n",
              "       [0],\n",
              "       [1],\n",
              "       [0],\n",
              "       [0],\n",
              "       [1],\n",
              "       [1],\n",
              "       [0],\n",
              "       [0],\n",
              "       [0],\n",
              "       [0],\n",
              "       [0],\n",
              "       [0],\n",
              "       [0],\n",
              "       [0],\n",
              "       [0],\n",
              "       [1],\n",
              "       [0],\n",
              "       [0],\n",
              "       [0],\n",
              "       [0],\n",
              "       [0],\n",
              "       [1],\n",
              "       [1],\n",
              "       [0],\n",
              "       [0],\n",
              "       [1],\n",
              "       [0],\n",
              "       [1],\n",
              "       [0],\n",
              "       [0],\n",
              "       [1],\n",
              "       [0],\n",
              "       [1],\n",
              "       [0],\n",
              "       [0],\n",
              "       [0],\n",
              "       [0],\n",
              "       [0],\n",
              "       [0],\n",
              "       [1],\n",
              "       [0],\n",
              "       [1],\n",
              "       [0],\n",
              "       [0],\n",
              "       [1],\n",
              "       [0],\n",
              "       [0],\n",
              "       [0]])"
            ]
          },
          "metadata": {
            "tags": []
          },
          "execution_count": 26
        }
      ]
    },
    {
      "cell_type": "markdown",
      "metadata": {
        "id": "tATfJe7Op5ZM",
        "colab_type": "text"
      },
      "source": [
        "Finally we have to do turn our predictions into the specified output CSV format."
      ]
    },
    {
      "cell_type": "code",
      "metadata": {
        "id": "VYqFt9BKp5ZM",
        "colab_type": "code",
        "colab": {},
        "outputId": "92bf25a1-a5cb-4952-cc5c-a5c870c1d7f2"
      },
      "source": [
        "predictions = pd.DataFrame(predictions).rename(columns={0: \"Survived\"})\n",
        "predictions.index.name =\"PassengerId\"\n",
        "predictions.index += 892\n",
        "predictions.to_csv(\"predictions.csv\")\n",
        "predictions"
      ],
      "execution_count": 0,
      "outputs": [
        {
          "output_type": "execute_result",
          "data": {
            "text/html": [
              "<div>\n",
              "<style scoped>\n",
              "    .dataframe tbody tr th:only-of-type {\n",
              "        vertical-align: middle;\n",
              "    }\n",
              "\n",
              "    .dataframe tbody tr th {\n",
              "        vertical-align: top;\n",
              "    }\n",
              "\n",
              "    .dataframe thead th {\n",
              "        text-align: right;\n",
              "    }\n",
              "</style>\n",
              "<table border=\"1\" class=\"dataframe\">\n",
              "  <thead>\n",
              "    <tr style=\"text-align: right;\">\n",
              "      <th></th>\n",
              "      <th>Survived</th>\n",
              "    </tr>\n",
              "    <tr>\n",
              "      <th>PassengerId</th>\n",
              "      <th></th>\n",
              "    </tr>\n",
              "  </thead>\n",
              "  <tbody>\n",
              "    <tr>\n",
              "      <th>892</th>\n",
              "      <td>0</td>\n",
              "    </tr>\n",
              "    <tr>\n",
              "      <th>893</th>\n",
              "      <td>0</td>\n",
              "    </tr>\n",
              "    <tr>\n",
              "      <th>894</th>\n",
              "      <td>0</td>\n",
              "    </tr>\n",
              "    <tr>\n",
              "      <th>895</th>\n",
              "      <td>0</td>\n",
              "    </tr>\n",
              "    <tr>\n",
              "      <th>896</th>\n",
              "      <td>0</td>\n",
              "    </tr>\n",
              "    <tr>\n",
              "      <th>...</th>\n",
              "      <td>...</td>\n",
              "    </tr>\n",
              "    <tr>\n",
              "      <th>1305</th>\n",
              "      <td>0</td>\n",
              "    </tr>\n",
              "    <tr>\n",
              "      <th>1306</th>\n",
              "      <td>1</td>\n",
              "    </tr>\n",
              "    <tr>\n",
              "      <th>1307</th>\n",
              "      <td>0</td>\n",
              "    </tr>\n",
              "    <tr>\n",
              "      <th>1308</th>\n",
              "      <td>0</td>\n",
              "    </tr>\n",
              "    <tr>\n",
              "      <th>1309</th>\n",
              "      <td>0</td>\n",
              "    </tr>\n",
              "  </tbody>\n",
              "</table>\n",
              "<p>418 rows × 1 columns</p>\n",
              "</div>"
            ],
            "text/plain": [
              "             Survived\n",
              "PassengerId          \n",
              "892                 0\n",
              "893                 0\n",
              "894                 0\n",
              "895                 0\n",
              "896                 0\n",
              "...               ...\n",
              "1305                0\n",
              "1306                1\n",
              "1307                0\n",
              "1308                0\n",
              "1309                0\n",
              "\n",
              "[418 rows x 1 columns]"
            ]
          },
          "metadata": {
            "tags": []
          },
          "execution_count": 27
        }
      ]
    },
    {
      "cell_type": "markdown",
      "metadata": {
        "id": "jnG2FDTap5ZN",
        "colab_type": "text"
      },
      "source": [
        "# Final words\n",
        "The deep learning model is probably not the best fit for this kind of classification task due to the small amount of data we are left with to model. Nevertheless, this is a great exercise for deep learning and I hope that you had fun reading the analysis and learned something new! :D"
      ]
    }
  ]
}